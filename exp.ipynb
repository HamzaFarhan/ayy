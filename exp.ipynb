{
 "cells": [
  {
   "cell_type": "code",
   "execution_count": 5,
   "metadata": {},
   "outputs": [],
   "source": [
    "from ayy.agent import Agent\n",
    "\n",
    "dump = {\"agent_tool_signature\": {\"name\": \"test\", \"signature\": \"test\", \"docstring\": \"test\", \"system\": \"testing?\"}}\n",
    "agent = Agent(**dump)"
   ]
  },
  {
   "cell_type": "code",
   "execution_count": 6,
   "metadata": {},
   "outputs": [
    {
     "data": {
      "text/plain": [
       "AgentToolSignature(name='test', signature='test', docstring='test', system='testing?')"
      ]
     },
     "execution_count": 6,
     "metadata": {},
     "output_type": "execute_result"
    }
   ],
   "source": [
    "agent.agent_tool_signature"
   ]
  },
  {
   "cell_type": "code",
   "execution_count": 6,
   "metadata": {},
   "outputs": [
    {
     "data": {
      "text/plain": [
       "Test(a=2, b='2')"
      ]
     },
     "execution_count": 6,
     "metadata": {},
     "output_type": "execute_result"
    }
   ],
   "source": [
    "from pydantic import BaseModel, field_validator\n",
    "\n",
    "class Test(BaseModel):\n",
    "    a: int\n",
    "    b: str\n",
    "\n",
    "    @field_validator(\"a\")\n",
    "    @classmethod\n",
    "    def validate_a(cls, v: int) -> int:\n",
    "        return v * 2\n",
    "\n",
    "test = Test(a=1, b=\"2\")\n",
    "test"
   ]
  },
  {
   "cell_type": "code",
   "execution_count": 1,
   "metadata": {},
   "outputs": [
    {
     "data": {
      "text/plain": [
       "UUID('26975330-f055-42a7-8f86-53a8950c9373')"
      ]
     },
     "execution_count": 1,
     "metadata": {},
     "output_type": "execute_result"
    }
   ],
   "source": [
    "from uuid import uuid4, UUID\n",
    "from pydantic import UUID4\n",
    "id = uuid4()\n",
    "id"
   ]
  },
  {
   "cell_type": "code",
   "execution_count": 2,
   "metadata": {},
   "outputs": [
    {
     "data": {
      "text/plain": [
       "UUID('7c4a1c48-e36f-4af8-8f0d-84f051408dd0')"
      ]
     },
     "execution_count": 2,
     "metadata": {},
     "output_type": "execute_result"
    }
   ],
   "source": [
    "UUID('7c4a1c48-e36f-4af8-8f0d-84f051408dd0')"
   ]
  },
  {
   "cell_type": "code",
   "execution_count": 1,
   "metadata": {},
   "outputs": [],
   "source": [
    "from ayy.prompts import SUMMARIZE_MESSAGES"
   ]
  },
  {
   "cell_type": "code",
   "execution_count": 2,
   "metadata": {},
   "outputs": [
    {
     "name": "stdout",
     "output_type": "stream",
     "text": [
      "\n",
      "You are a skilled conversation summarizer. Your task is to analyze tool-based conversations and create concise summaries that preserve essential information while significantly reducing the token count.\n",
      "\n",
      "The main purpose of summarization is to:\n",
      "1. Condense lengthy conversations when they exceed the model's context window\n",
      "2. Create learning examples for solving similar tasks in the future\n",
      "3. Build a knowledge base of successful tool usage patterns\n",
      "\n",
      "Your summary should:\n",
      "1. Preserve key information about tool selection and usage\n",
      "2. Maintain the logical flow of tool calls\n",
      "3. Track tool results and how they influenced next steps\n",
      "4. Show clear task progression from query to completion\n",
      "5. Highlight effective tool combinations\n",
      "6. Reduce token count by removing redundant tool selections\n",
      "7. Combine similar consecutive messages from the same role\n",
      "\n",
      "Create a structured summary that includes:\n",
      "\n",
      "1. A list of messages that capture the essential flow:\n",
      "   - Use 'user' and 'assistant' roles\n",
      "   - Include only the first instance of available tools\n",
      "   - Keep tool selections that led to actual calls\n",
      "   - Preserve tool calls and their results\n",
      "   - Skip repeated tool selections for the same task\n",
      "   - Combine multiple tool selections into single messages\n",
      "   - Focus on the progression: query → tool selection → tool call → result → response\n",
      "\n",
      "2. Semantic memories for long-term facts:\n",
      "   - Tool usage patterns\n",
      "   - Successful tool combinations\n",
      "   - Task completion patterns\n",
      "   - User preferences about tools\n",
      "   - Common tool selection strategies\n",
      "   - Any other reusable patterns\n",
      "\n",
      "The summarized messages should demonstrate:\n",
      "- How tools were selected for the task\n",
      "- When multiple tool calls were needed\n",
      "- How tool results were used\n",
      "- Effective tool sequencing\n",
      "- Clear task completion patterns\n",
      "\n",
      "Format your response as a Summary object with messages and semantic_memories fields.\n",
      "\n",
      "Available categories for semantic memories: ['IDENTITY', 'PREFERENCES', 'RELATIONSHIPS', 'SKILLS', 'BELIEFS', 'BACKGROUND', 'HEALTH', 'LOCATION', 'SCHEDULE', 'GOALS', 'OTHER']\n",
      "\n",
      "Example conversation:\n",
      "\n",
      "User: Available tools: ['get_user_info', 'get_weather', 'search_flights', 'book_flight', 'ask_user', 'call_ai']\n",
      "User: Hi I'm Hamza and I'm planning a trip to visit my family in New York. How's the weather there?\n",
      "Assistant: <selected_tools>\n",
      "Tool 1:\n",
      "Reasoning: Need to check weather in New York\n",
      "Name: get_weather\n",
      "Prompt: {\n",
      "  \"day\": \"Thursday\",\n",
      "  \"location\": \"New York\"\n",
      "}\n",
      "Tool 2:\n",
      "Reasoning: Format weather information for user\n",
      "Name: call_ai\n",
      "Prompt: Generate a user-friendly response about the weather based on the get_weather result.\n",
      "</selected_tools>\n",
      "Tool Result: \"It's sunny with temperatures around 75°F (24°C). Similar forecast for next few days.\"\n",
      "Assistant: The weather is sunny in New York with temperatures around 75°F (24°C). The forecast shows similar weather for the next few days.\n",
      "User: I love sunny days! That's perfect for my trip. Can you help me book a flight?\n",
      "Assistant: <selected_tools>\n",
      "Tool 1:\n",
      "Reasoning: Need flight preferences before searching\n",
      "Name: ask_user\n",
      "Prompt: Do you have any preferences for flight timing (morning/afternoon/evening)?\n",
      "</selected_tools>\n",
      "User: I'd prefer a morning flight if possible.\n",
      "Assistant: <selected_tools>\n",
      "Tool 1:\n",
      "Reasoning: Search for morning flights to New York\n",
      "Name: search_flights\n",
      "Prompt: {\n",
      "  \"destination\": \"New York\",\n",
      "  \"time_preference\": \"morning\"\n",
      "}\n",
      "Tool 2:\n",
      "Reasoning: Format flight options for user\n",
      "Name: call_ai\n",
      "Prompt: Present the flight options in a clear format and ask for confirmation.\n",
      "</selected_tools>\n",
      "Tool Result: [{\"flight\": \"AA1234\", \"departure\": \"8:30 AM\", \"arrival\": \"11:45 AM\", \"day\": \"Saturday\"}]\n",
      "Assistant: I found a direct flight on Saturday at 8:30 AM, arriving at 11:45 AM. Would you like me to book this flight for you?\n",
      "User: Yes, please book it.\n",
      "Assistant: <selected_tools>\n",
      "Tool 1:\n",
      "Reasoning: Book the selected flight\n",
      "Name: book_flight\n",
      "Prompt: {\n",
      "  \"flight_id\": \"AA1234\",\n",
      "  \"user_id\": \"u123\"\n",
      "}\n",
      "Tool 2:\n",
      "Reasoning: Format booking confirmation\n",
      "Name: call_ai\n",
      "Prompt: Generate a user-friendly confirmation message with all booking details.\n",
      "</selected_tools>\n",
      "Tool Result: {\"confirmation\": \"XYZ789\", \"flight\": \"AA1234\", \"departure\": \"8:30 AM\", \"arrival\": \"11:45 AM\"}\n",
      "Assistant: Your flight has been booked! Here are the details:\n",
      "- Flight: AA1234\n",
      "- Departure: Saturday, 8:30 AM\n",
      "- Arrival: 11:45 AM\n",
      "- Confirmation code: XYZ789\n",
      "\n",
      "Summary:\n",
      "{\n",
      "  \"messages\": [\n",
      "    {\"role\": \"user\", \"content\": \"Available tools: get_user_info, get_weather, search_flights, book_flight, ask_user, call_ai\"},\n",
      "    {\"role\": \"user\", \"content\": \"Hi I'm Hamza and I'm planning a trip to visit my family in New York. How's the weather there?\"},\n",
      "    {\"role\": \"assistant\", \"content\": \"Tool: get_weather(day='Thursday', location='New York')\\nResult: It's sunny with temperatures around 75°F (24°C).\"},\n",
      "    {\"role\": \"user\", \"content\": \"I love sunny days! That's perfect for my trip. Can you help me book a flight?\"},\n",
      "    {\"role\": \"assistant\", \"content\": \"Tool: ask_user('Do you have any preferences for flight timing?')\"},\n",
      "    {\"role\": \"user\", \"content\": \"I'd prefer a morning flight if possible.\"},\n",
      "    {\"role\": \"assistant\", \"content\": \"Tool: search_flights(destination='New York', time_preference='morning')\\nResult: Found flight AA1234 at 8:30 AM\"},\n",
      "    {\"role\": \"user\", \"content\": \"Yes, please book it.\"},\n",
      "    {\"role\": \"assistant\", \"content\": \"Tool: book_flight(flight_id='AA1234', user_id='u123')\\nResult: Confirmation XYZ789\"}\n",
      "  ],\n",
      "  \"semantic_memories\": [\n",
      "    {\"name\": \"tool_pattern\", \"content\": {\"task\": \"travel_booking\", \"sequence\": [\"get_weather\", \"ask_user\", \"search_flights\", \"book_flight\"]}, \"category\": \"workflows\", \"confidence\": 1.0},\n",
      "    {\"name\": \"personal_info\", \"content\": {\"name\": \"Hamza\", \"user_id\": \"u123\"}, \"category\": \"identity\", \"confidence\": 1.0},\n",
      "    {\"name\": \"travel_preferences\", \"content\": {\"prefers_morning_flights\": true, \"likes_sunny_weather\": true}, \"category\": \"preferences\", \"confidence\": 0.8},\n",
      "    {\"name\": \"booking_details\", \"content\": {\"confirmation\": \"XYZ789\", \"flight\": \"AA1234\"}, \"category\": \"transactions\", \"confidence\": 1.0}\n",
      "  ]\n",
      "}\n",
      "\n",
      "This example shows how to:\n",
      "1. Include tool selections with reasoning\n",
      "2. Preserve essential tool calls and results\n",
      "3. Skip redundant messages\n",
      "4. Track the logical flow of the conversation\n",
      "5. Capture reusable patterns in semantic memories\n",
      "\n"
     ]
    }
   ],
   "source": [
    "print(SUMMARIZE_MESSAGES)"
   ]
  },
  {
   "cell_type": "code",
   "execution_count": null,
   "metadata": {},
   "outputs": [],
   "source": []
  }
 ],
 "metadata": {
  "kernelspec": {
   "display_name": ".venv",
   "language": "python",
   "name": "python3"
  },
  "language_info": {
   "codemirror_mode": {
    "name": "ipython",
    "version": 3
   },
   "file_extension": ".py",
   "mimetype": "text/x-python",
   "name": "python",
   "nbconvert_exporter": "python",
   "pygments_lexer": "ipython3",
   "version": "3.12.7"
  }
 },
 "nbformat": 4,
 "nbformat_minor": 2
}
