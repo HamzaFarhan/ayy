{
 "cells": [
  {
   "cell_type": "code",
   "execution_count": 2,
   "metadata": {},
   "outputs": [
    {
     "name": "stderr",
     "output_type": "stream",
     "text": [
      "\u001b[32m2024-11-28 05:29:26.779\u001b[0m | \u001b[33m\u001b[1mWARNING \u001b[0m | \u001b[36mayy.dialog\u001b[0m:\u001b[36mload_content\u001b[0m:\u001b[36m46\u001b[0m - \u001b[33m\u001b[1mCould not load content as a file: [Errno 2] No such file or directory: 'This is the system message.'\u001b[0m\n",
      "\u001b[32m2024-11-28 05:29:26.780\u001b[0m | \u001b[33m\u001b[1mWARNING \u001b[0m | \u001b[36mayy.dialog\u001b[0m:\u001b[36mload_content\u001b[0m:\u001b[36m46\u001b[0m - \u001b[33m\u001b[1mCould not load content as a file: [Errno 2] No such file or directory: 'assistant'\u001b[0m\n",
      "\u001b[32m2024-11-28 05:29:26.780\u001b[0m | \u001b[33m\u001b[1mWARNING \u001b[0m | \u001b[36mayy.dialog\u001b[0m:\u001b[36mload_content\u001b[0m:\u001b[36m46\u001b[0m - \u001b[33m\u001b[1mCould not load content as a file: [Errno 2] No such file or directory: 'what is your favorite football team?'\u001b[0m\n",
      "\u001b[32m2024-11-28 05:29:26.780\u001b[0m | \u001b[1mINFO    \u001b[0m | \u001b[36mayy.dialog\u001b[0m:\u001b[36mdialog_to_kwargs\u001b[0m:\u001b[36m194\u001b[0m - \u001b[1mkwargs: {'messages': [{'role': 'system', 'content': \"Tag the latest message. Possible tags are {'CORE': <MemoryTag.CORE: MemoryTagInfo(description='Messages that are crucial and should persist even after the dialog concludes', use_cases=['Factual information', 'Important facts about the user', 'Long-term preferences', 'Critical instructions or rules', 'User feedback intended to improve future interactions'])>, 'RECALL': <MemoryTag.RECALL: MemoryTagInfo(description='Messages relevant to the current task and should be remembered during the ongoing dialog', use_cases=['Current task parameters', 'Intermediate results', 'Temporary user preferences'])>}\"}, {'role': 'user', 'content': \"it's sunny today\"}, {'role': 'assistant', 'content': \"tags: ['RECALL']\"}, {'role': 'user', 'content': 'I love sunny days'}, {'role': 'assistant', 'content': \"tags: ['CORE']\"}, {'role': 'user', 'content': 'My name is Hamza'}, {'role': 'assistant', 'content': \"tags: ['RECALL']\"}, {'role': 'user', 'content': 'My name is a permanent thing. The tag for permanent things should be CORE'}, {'role': 'assistant', 'content': \"Apologies, I made a mistake. tags: ['CORE']\\n\\n--- Next Message ---\\n\\nwhat is your favorite football team?\"}, {'role': 'user', 'content': 'FC Barcelona '}], 'generation_config': {'temperature': 0.1, 'max_tokens': 3000}}\u001b[0m\n"
     ]
    },
    {
     "name": "stdout",
     "output_type": "stream",
     "text": [
      "[{'role': 'assistant', 'content': 'what is your favorite football team?'}, {'role': 'user', 'content': 'FC Barcelona ', 'tags': ['RECALL', 'CORE']}]\n"
     ]
    }
   ],
   "source": [
    "# Example usage of add_message with a dialog and a tagger dialog\n",
    "from ayy.dialog import MODEL_NAME, Dialog, add_message, assistant_message, user_message\n",
    "\n",
    "# Create a dialog instance\n",
    "dialog = Dialog(\n",
    "    system=\"This is the system message.\",\n",
    "    messages=[\n",
    "        assistant_message(content=\"what is your favorite football team?\"),\n",
    "    ],\n",
    "    model_name=MODEL_NAME,\n",
    ")\n",
    "\n",
    "# Add a message to the dialog with tagging\n",
    "dialog = add_message(dialog=dialog, message=user_message(content=\"FC Barcelona \"), tag_messages=True)\n",
    "\n",
    "# Print the updated dialog messages\n",
    "print(dialog.messages)\n"
   ]
  },
  {
   "cell_type": "code",
   "execution_count": 1,
   "metadata": {},
   "outputs": [
    {
     "data": {
      "text/plain": [
       "{'hello': 'yooo', 'bye': 'dunya'}"
      ]
     },
     "execution_count": 1,
     "metadata": {},
     "output_type": "execute_result"
    }
   ],
   "source": [
    "{**{\"hello\": \"world\", \"bye\": \"dunya\"},\"hello\":\"yooo\"}"
   ]
  },
  {
   "cell_type": "code",
   "execution_count": 3,
   "metadata": {},
   "outputs": [
    {
     "ename": "ValueError",
     "evalue": "badly formed hexadecimal UUID string",
     "output_type": "error",
     "traceback": [
      "\u001b[0;31m---------------------------------------------------------------------------\u001b[0m",
      "\u001b[0;31mValueError\u001b[0m                                Traceback (most recent call last)",
      "Cell \u001b[0;32mIn[3], line 3\u001b[0m\n\u001b[1;32m      1\u001b[0m \u001b[38;5;28;01mfrom\u001b[39;00m \u001b[38;5;21;01muuid\u001b[39;00m \u001b[38;5;28;01mimport\u001b[39;00m UUID\n\u001b[0;32m----> 3\u001b[0m \u001b[43mUUID\u001b[49m\u001b[43m(\u001b[49m\u001b[38;5;124;43m\"\u001b[39;49m\u001b[38;5;124;43m123e4567\u001b[39;49m\u001b[38;5;124;43m\"\u001b[39;49m\u001b[43m)\u001b[49m\n",
      "File \u001b[0;32m/usr/lib/python3.12/uuid.py:178\u001b[0m, in \u001b[0;36mUUID.__init__\u001b[0;34m(self, hex, bytes, bytes_le, fields, int, version, is_safe)\u001b[0m\n\u001b[1;32m    176\u001b[0m     \u001b[38;5;28mhex\u001b[39m \u001b[38;5;241m=\u001b[39m \u001b[38;5;28mhex\u001b[39m\u001b[38;5;241m.\u001b[39mstrip(\u001b[38;5;124m'\u001b[39m\u001b[38;5;132;01m{}\u001b[39;00m\u001b[38;5;124m'\u001b[39m)\u001b[38;5;241m.\u001b[39mreplace(\u001b[38;5;124m'\u001b[39m\u001b[38;5;124m-\u001b[39m\u001b[38;5;124m'\u001b[39m, \u001b[38;5;124m'\u001b[39m\u001b[38;5;124m'\u001b[39m)\n\u001b[1;32m    177\u001b[0m     \u001b[38;5;28;01mif\u001b[39;00m \u001b[38;5;28mlen\u001b[39m(\u001b[38;5;28mhex\u001b[39m) \u001b[38;5;241m!=\u001b[39m \u001b[38;5;241m32\u001b[39m:\n\u001b[0;32m--> 178\u001b[0m         \u001b[38;5;28;01mraise\u001b[39;00m \u001b[38;5;167;01mValueError\u001b[39;00m(\u001b[38;5;124m'\u001b[39m\u001b[38;5;124mbadly formed hexadecimal UUID string\u001b[39m\u001b[38;5;124m'\u001b[39m)\n\u001b[1;32m    179\u001b[0m     \u001b[38;5;28mint\u001b[39m \u001b[38;5;241m=\u001b[39m int_(\u001b[38;5;28mhex\u001b[39m, \u001b[38;5;241m16\u001b[39m)\n\u001b[1;32m    180\u001b[0m \u001b[38;5;28;01mif\u001b[39;00m bytes_le \u001b[38;5;129;01mis\u001b[39;00m \u001b[38;5;129;01mnot\u001b[39;00m \u001b[38;5;28;01mNone\u001b[39;00m:\n",
      "\u001b[0;31mValueError\u001b[0m: badly formed hexadecimal UUID string"
     ]
    }
   ],
   "source": [
    "from uuid import UUID\n",
    "\n",
    "UUID(\"123e4567\")\n"
   ]
  },
  {
   "cell_type": "code",
   "execution_count": 2,
   "metadata": {},
   "outputs": [
    {
     "data": {
      "text/plain": [
       "{1, 2, 3, 4}"
      ]
     },
     "execution_count": 2,
     "metadata": {},
     "output_type": "execute_result"
    }
   ],
   "source": [
    "set([1, 2, 3]) | set([2, 3, 4]) or []"
   ]
  },
  {
   "cell_type": "code",
   "execution_count": 4,
   "metadata": {},
   "outputs": [
    {
     "data": {
      "text/plain": [
       "[]"
      ]
     },
     "execution_count": 4,
     "metadata": {},
     "output_type": "execute_result"
    }
   ],
   "source": [
    "set([]) | set([]) or []\n"
   ]
  },
  {
   "cell_type": "code",
   "execution_count": 8,
   "metadata": {},
   "outputs": [
    {
     "data": {
      "text/plain": [
       "[2]"
      ]
     },
     "execution_count": 8,
     "metadata": {},
     "output_type": "execute_result"
    }
   ],
   "source": [
    "[*set([2])]"
   ]
  },
  {
   "cell_type": "code",
   "execution_count": null,
   "metadata": {},
   "outputs": [],
   "source": []
  }
 ],
 "metadata": {
  "kernelspec": {
   "display_name": ".venv",
   "language": "python",
   "name": "python3"
  },
  "language_info": {
   "codemirror_mode": {
    "name": "ipython",
    "version": 3
   },
   "file_extension": ".py",
   "mimetype": "text/x-python",
   "name": "python",
   "nbconvert_exporter": "python",
   "pygments_lexer": "ipython3",
   "version": "3.12.7"
  }
 },
 "nbformat": 4,
 "nbformat_minor": 2
}
