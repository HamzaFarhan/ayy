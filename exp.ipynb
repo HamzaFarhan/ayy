{
 "cells": [
  {
   "cell_type": "code",
   "execution_count": 13,
   "metadata": {},
   "outputs": [],
   "source": [
    "from pathlib import Path\n",
    "\n",
    "from markitdown import MarkItDown"
   ]
  },
  {
   "cell_type": "code",
   "execution_count": 20,
   "metadata": {},
   "outputs": [],
   "source": [
    "markitdown = MarkItDown()\n",
    "result = markitdown.convert(\"/media/hamza/data2/talentnet_data/CVs_PDFs_All/Accounting-Assistant-Resume-0.pdf\")"
   ]
  },
  {
   "cell_type": "code",
   "execution_count": 21,
   "metadata": {},
   "outputs": [
    {
     "data": {
      "text/plain": [
       "4192"
      ]
     },
     "execution_count": 21,
     "metadata": {},
     "output_type": "execute_result"
    }
   ],
   "source": [
    "Path(\"test.md\").write_text(result.text_content)"
   ]
  },
  {
   "cell_type": "code",
   "execution_count": 4,
   "metadata": {},
   "outputs": [
    {
     "data": {
      "text/plain": [
       "[1, 2, 3]"
      ]
     },
     "execution_count": 4,
     "metadata": {},
     "output_type": "execute_result"
    }
   ],
   "source": [
    "a = [1,2,3]\n",
    "a[0:]"
   ]
  },
  {
   "cell_type": "code",
   "execution_count": 16,
   "metadata": {},
   "outputs": [],
   "source": [
    "from uuid import uuid4\n",
    "from ayy.task import Task, TaskTool, Tool, task_to_kwargs, Agent, ModelName, task_tool_to_messages\n",
    "\n",
    "# Create a basic agent\n",
    "agent = Agent(\n",
    "    id=uuid4(),\n",
    "    name=\"Test Agent\",\n",
    "    system=\"You are a helpful test agent\",\n",
    "    model_name=ModelName.GEMINI_FLASH\n",
    ")\n",
    "\n",
    "# Create a task\n",
    "task = Task(\n",
    "    id=uuid4(),\n",
    "    name=\"Test Task\",\n",
    "    agent_id=agent.id,\n",
    "    available_tools_message={\"role\": \"user\", \"content\": \"Available tools: search, calculate\"},\n",
    "    summarized_task_tools=[2,1]  # Keep track of summarized tools\n",
    ")\n",
    "\n",
    "# Create some test tools\n",
    "tools = [\n",
    "    Tool(\n",
    "        name=\"search\",\n",
    "        reasoning=\"Used for searching information\",\n",
    "        prompt=\"What would you like to search for?\"\n",
    "    ),\n",
    "    Tool(\n",
    "        name=\"calculate\",\n",
    "        reasoning=\"Used for mathematical calculations\",\n",
    "        prompt=\"What calculation would you like to perform?\"\n",
    "    )\n",
    "]\n",
    "\n",
    "# Create task tools with some example messages\n",
    "task_tools = [\n",
    "    TaskTool(\n",
    "        id=1,\n",
    "        position=0,\n",
    "        task_id=task.id,\n",
    "        tool=tools[0],\n",
    "        args_message={\"role\": \"assistant\", \"content\": \"Search for: Python programming\"},\n",
    "        result_message={\"role\": \"user\", \"content\": \"Found results about Python programming...\"}\n",
    "    ),\n",
    "    TaskTool(\n",
    "        id=2,\n",
    "        position=1,\n",
    "        task_id=task.id,\n",
    "        tool=tools[1],\n",
    "        args_message={\"role\": \"assistant\", \"content\": \"Calculate: 2 + 2\"},\n",
    "        result_message={\"role\": \"user\", \"content\": \"Result: 4\"}\n",
    "    )\n",
    "]\n"
   ]
  },
  {
   "cell_type": "code",
   "execution_count": 17,
   "metadata": {},
   "outputs": [],
   "source": [
    "task_tools_messages = [\n",
    "        message\n",
    "        for task_tool in task_tools\n",
    "        for message in task_tool_to_messages(task_tool)\n",
    "        if task_tool.id not in task.summarized_task_tools\n",
    "    ]"
   ]
  },
  {
   "cell_type": "code",
   "execution_count": 18,
   "metadata": {},
   "outputs": [
    {
     "data": {
      "text/plain": [
       "[]"
      ]
     },
     "execution_count": 18,
     "metadata": {},
     "output_type": "execute_result"
    }
   ],
   "source": [
    "\n",
    "task_tools_messages"
   ]
  },
  {
   "cell_type": "code",
   "execution_count": null,
   "metadata": {},
   "outputs": [],
   "source": []
  }
 ],
 "metadata": {
  "kernelspec": {
   "display_name": ".venv",
   "language": "python",
   "name": "python3"
  },
  "language_info": {
   "codemirror_mode": {
    "name": "ipython",
    "version": 3
   },
   "file_extension": ".py",
   "mimetype": "text/x-python",
   "name": "python",
   "nbconvert_exporter": "python",
   "pygments_lexer": "ipython3",
   "version": "3.12.7"
  }
 },
 "nbformat": 4,
 "nbformat_minor": 2
}
