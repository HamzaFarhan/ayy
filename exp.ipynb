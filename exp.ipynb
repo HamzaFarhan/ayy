{
 "cells": [
  {
   "cell_type": "code",
   "execution_count": 1,
   "metadata": {},
   "outputs": [
    {
     "name": "stderr",
     "output_type": "stream",
     "text": [
      "/home/hamza/dev/ayy/.venv/lib/python3.12/site-packages/pydantic/_internal/_fields.py:132: UserWarning: Field \"model_name\" in SQL_Dialog has conflict with protected namespace \"model_\".\n",
      "\n",
      "You may be able to resolve this warning by setting `model_config['protected_namespaces'] = ()`.\n",
      "  warnings.warn(\n",
      "/home/hamza/dev/ayy/.venv/lib/python3.12/site-packages/pydantic/_internal/_fields.py:132: UserWarning: Field \"model_name\" in Dialog has conflict with protected namespace \"model_\".\n",
      "\n",
      "You may be able to resolve this warning by setting `model_config['protected_namespaces'] = ()`.\n",
      "  warnings.warn(\n"
     ]
    }
   ],
   "source": [
    "from pathlib import Path\n",
    "\n",
    "from valkey import Valkey\n",
    "\n",
    "from ayy.dialog import Dialog, ModelName, create_creator\n",
    "from ayy.leggo import new_task, run_tools"
   ]
  },
  {
   "cell_type": "code",
   "execution_count": 2,
   "metadata": {},
   "outputs": [
    {
     "name": "stderr",
     "output_type": "stream",
     "text": [
      "\u001b[32m2024-11-22 23:06:44.655\u001b[0m | \u001b[33m\u001b[1mWARNING \u001b[0m | \u001b[36mayy.dialog\u001b[0m:\u001b[36mload_content\u001b[0m:\u001b[36m72\u001b[0m - \u001b[33m\u001b[1mCould not load content as a file: [Errno 36] File name too long: 'selector_system = \"\"\"\\nYou have a list tools at your disposal. Each \u001b[0m\n",
      "\u001b[32m2024-11-22 23:06:44.658\u001b[0m | \u001b[1mINFO    \u001b[0m | \u001b[36mayy.leggo\u001b[0m:\u001b[36mrun_tool\u001b[0m:\u001b[36m116\u001b[0m - \u001b[1m\n",
      "\n",
      "Calling get_selected_tools with messages: [{'role': 'user', 'content': 'Available tools for this task:\\nTool 1:\\n{\\'name\\': \\'ask_user\\', \\'signature\\': \\'ask_user(prompt: str) -> str\\', \\'docstring\\': \\'Prompt the user for a response\\'}\\n\\nTool 2:\\n{\\'name\\': \\'call_ai\\', \\'signature\\': \\'call_ai(inputs: Any) -> Any\\', \\'docstring\\': \\'Not a pre-defined tool.\\'}\\n\\nTool 3:\\n{\\'name\\': \\'get_random_number\\', \\'signature\\': \\'get_random_number() -> int\\', \\'docstring\\': \\'get a random number\\'}\\n\\nTool 4:\\n{\\'name\\': \\'get_weather\\', \\'signature\\': \"get_weather(day: Literal[\\'Monday\\', \\'Tuesday\\', \\'Wednesday\\', \\'Thursday\\', \\'Friday\\', \\'Saturday\\', \\'Sunday\\'], location: str) -> str\", \\'docstring\\': \\'get the weather at a day in a location\\'}\\n\\nTool 5:\\n{\\'name\\': \\'list_available_grounds\\', \\'signature\\': \\'list_available_grounds(location: str) -> list[str]\\', \\'docstring\\': \\'list all available grounds in a city\\'}\\n\\nTool 6:\\n{\\'name\\': \\'upload_video\\', \\'signature\\': \\'upload_video(video_path: str) -> str\\', \\'docstring\\': \\'save video and return the dest path\\'}'}, {'role': 'user', 'content': 'get the weather in blackpool'}]\n",
      "\n",
      "\u001b[0m\n"
     ]
    },
    {
     "name": "stdout",
     "output_type": "stream",
     "text": [
      "\n",
      "TOOL QUEUE: deque([Tool(chain_of_thought='', name='get_selected_tools', prompt='get the weather in blackpool')])\n",
      "\n"
     ]
    },
    {
     "name": "stderr",
     "output_type": "stream",
     "text": [
      "\u001b[32m2024-11-22 23:06:48.821\u001b[0m | \u001b[1mINFO    \u001b[0m | \u001b[36mayy.leggo\u001b[0m:\u001b[36mrun_tool\u001b[0m:\u001b[36m121\u001b[0m - \u001b[1mget_selected_tools creator_res: [SelectedTool(chain_of_thought=\"To get the weather in Blackpool, I need to use the `get_weather` tool.  The `get_weather` tool requires a day and a location.  Since the user didn't specify a day, I will ask the user for the day they are interested in.\", name='ask_user', prompt=\"What day's weather in Blackpool are you interested in? Please provide the day of the week (e.g., Monday, Tuesday).\"), SelectedTool(chain_of_thought='Now that I have the day, I can use the `get_weather` tool to get the weather information for Blackpool on that day.', name='get_weather', prompt='Please provide the day and location to get the weather.  The location is Blackpool.'), SelectedTool(chain_of_thought='Finally, I will use the `call_ai` tool to format the response nicely for the user.', name='call_ai', prompt='Based on the weather information received from the `get_weather` tool, generate a concise and user-friendly weather report for Blackpool on the specified day.')]\u001b[0m\n",
      "\u001b[32m2024-11-22 23:06:48.822\u001b[0m | \u001b[1mINFO    \u001b[0m | \u001b[36mayy.leggo\u001b[0m:\u001b[36mrun_tool\u001b[0m:\u001b[36m122\u001b[0m - \u001b[1mget_selected_tools selected_tool: functools.partial(<function get_selected_tools at 0x7e869d348c20>, <valkey.client.Valkey(<valkey.connection.ConnectionPool(<valkey.connection.Connection(host=localhost,port=6379,db=0)>)>)>)\u001b[0m\n",
      "\u001b[32m2024-11-22 23:06:48.829\u001b[0m | \u001b[32m\u001b[1mSUCCESS \u001b[0m | \u001b[36mayy.leggo\u001b[0m:\u001b[36mrun_tool\u001b[0m:\u001b[36m127\u001b[0m - \u001b[32m\u001b[1mget_selected_tools result: None\u001b[0m\n"
     ]
    },
    {
     "name": "stdout",
     "output_type": "stream",
     "text": [
      "\n",
      "TOOL QUEUE: deque([Tool(chain_of_thought=\"To get the weather in Blackpool, I need to use the `get_weather` tool.  The `get_weather` tool requires a day and a location.  Since the user didn't specify a day, I will ask the user for the day they are interested in.\", name='ask_user', prompt=\"What day's weather in Blackpool are you interested in? Please provide the day of the week (e.g., Monday, Tuesday).\"), Tool(chain_of_thought='Now that I have the day, I can use the `get_weather` tool to get the weather information for Blackpool on that day.', name='get_weather', prompt='Please provide the day and location to get the weather.  The location is Blackpool.'), Tool(chain_of_thought='Finally, I will use the `call_ai` tool to format the response nicely for the user.', name='call_ai', prompt='Based on the weather information received from the `get_weather` tool, generate a concise and user-friendly weather report for Blackpool on the specified day.')])\n",
      "\n"
     ]
    },
    {
     "name": "stderr",
     "output_type": "stream",
     "text": [
      "\u001b[32m2024-11-22 23:07:03.435\u001b[0m | \u001b[1mINFO    \u001b[0m | \u001b[36mayy.leggo\u001b[0m:\u001b[36mrun_tool\u001b[0m:\u001b[36m116\u001b[0m - \u001b[1m\n",
      "\n",
      "Calling get_weather with messages: [{'role': 'user', 'content': 'Available tools for this task:\\nTool 1:\\n{\\'name\\': \\'ask_user\\', \\'signature\\': \\'ask_user(prompt: str) -> str\\', \\'docstring\\': \\'Prompt the user for a response\\'}\\n\\nTool 2:\\n{\\'name\\': \\'call_ai\\', \\'signature\\': \\'call_ai(inputs: Any) -> Any\\', \\'docstring\\': \\'Not a pre-defined tool.\\'}\\n\\nTool 3:\\n{\\'name\\': \\'get_random_number\\', \\'signature\\': \\'get_random_number() -> int\\', \\'docstring\\': \\'get a random number\\'}\\n\\nTool 4:\\n{\\'name\\': \\'get_weather\\', \\'signature\\': \"get_weather(day: Literal[\\'Monday\\', \\'Tuesday\\', \\'Wednesday\\', \\'Thursday\\', \\'Friday\\', \\'Saturday\\', \\'Sunday\\'], location: str) -> str\", \\'docstring\\': \\'get the weather at a day in a location\\'}\\n\\nTool 5:\\n{\\'name\\': \\'list_available_grounds\\', \\'signature\\': \\'list_available_grounds(location: str) -> list[str]\\', \\'docstring\\': \\'list all available grounds in a city\\'}\\n\\nTool 6:\\n{\\'name\\': \\'upload_video\\', \\'signature\\': \\'upload_video(video_path: str) -> str\\', \\'docstring\\': \\'save video and return the dest path\\'}'}, {'role': 'user', 'content': 'get the weather in blackpool'}, {'role': 'assistant', 'content': 'None'}, {'role': 'assistant', 'content': \"What day's weather in Blackpool are you interested in? Please provide the day of the week (e.g., Monday, Tuesday).\"}, {'role': 'user', 'content': 'tue'}, {'role': 'user', 'content': 'Please provide the day and location to get the weather.  The location is Blackpool.'}]\n",
      "\n",
      "\u001b[0m\n"
     ]
    },
    {
     "name": "stdout",
     "output_type": "stream",
     "text": [
      "\n",
      "TOOL QUEUE: deque([Tool(chain_of_thought='Now that I have the day, I can use the `get_weather` tool to get the weather information for Blackpool on that day.', name='get_weather', prompt='Please provide the day and location to get the weather.  The location is Blackpool.'), Tool(chain_of_thought='Finally, I will use the `call_ai` tool to format the response nicely for the user.', name='call_ai', prompt='Based on the weather information received from the `get_weather` tool, generate a concise and user-friendly weather report for Blackpool on the specified day.')])\n",
      "\n"
     ]
    },
    {
     "name": "stderr",
     "output_type": "stream",
     "text": [
      "\u001b[32m2024-11-22 23:07:04.102\u001b[0m | \u001b[1mINFO    \u001b[0m | \u001b[36mayy.leggo\u001b[0m:\u001b[36mrun_tool\u001b[0m:\u001b[36m121\u001b[0m - \u001b[1mget_weather creator_res: day='Tuesday' location='Blackpool'\u001b[0m\n",
      "\u001b[32m2024-11-22 23:07:04.103\u001b[0m | \u001b[1mINFO    \u001b[0m | \u001b[36mayy.leggo\u001b[0m:\u001b[36mrun_tool\u001b[0m:\u001b[36m122\u001b[0m - \u001b[1mget_weather selected_tool: <function get_weather at 0x7e869d3befc0>\u001b[0m\n",
      "\u001b[32m2024-11-22 23:07:04.104\u001b[0m | \u001b[32m\u001b[1mSUCCESS \u001b[0m | \u001b[36mayy.leggo\u001b[0m:\u001b[36mrun_tool\u001b[0m:\u001b[36m127\u001b[0m - \u001b[32m\u001b[1mget_weather result: It's overcast\u001b[0m\n",
      "\u001b[32m2024-11-22 23:07:04.108\u001b[0m | \u001b[1mINFO    \u001b[0m | \u001b[36mayy.leggo\u001b[0m:\u001b[36mrun_call_ai\u001b[0m:\u001b[36m65\u001b[0m - \u001b[1m\n",
      "\n",
      "Calling AI with messages: [{'role': 'user', 'content': 'Available tools for this task:\\nTool 1:\\n{\\'name\\': \\'ask_user\\', \\'signature\\': \\'ask_user(prompt: str) -> str\\', \\'docstring\\': \\'Prompt the user for a response\\'}\\n\\nTool 2:\\n{\\'name\\': \\'call_ai\\', \\'signature\\': \\'call_ai(inputs: Any) -> Any\\', \\'docstring\\': \\'Not a pre-defined tool.\\'}\\n\\nTool 3:\\n{\\'name\\': \\'get_random_number\\', \\'signature\\': \\'get_random_number() -> int\\', \\'docstring\\': \\'get a random number\\'}\\n\\nTool 4:\\n{\\'name\\': \\'get_weather\\', \\'signature\\': \"get_weather(day: Literal[\\'Monday\\', \\'Tuesday\\', \\'Wednesday\\', \\'Thursday\\', \\'Friday\\', \\'Saturday\\', \\'Sunday\\'], location: str) -> str\", \\'docstring\\': \\'get the weather at a day in a location\\'}\\n\\nTool 5:\\n{\\'name\\': \\'list_available_grounds\\', \\'signature\\': \\'list_available_grounds(location: str) -> list[str]\\', \\'docstring\\': \\'list all available grounds in a city\\'}\\n\\nTool 6:\\n{\\'name\\': \\'upload_video\\', \\'signature\\': \\'upload_video(video_path: str) -> str\\', \\'docstring\\': \\'save video and return the dest path\\'}'}, {'role': 'user', 'content': 'get the weather in blackpool'}, {'role': 'assistant', 'content': 'None'}, {'role': 'assistant', 'content': \"What day's weather in Blackpool are you interested in? Please provide the day of the week (e.g., Monday, Tuesday).\"}, {'role': 'user', 'content': 'tue'}, {'role': 'user', 'content': 'Please provide the day and location to get the weather.  The location is Blackpool.'}, {'role': 'assistant', 'content': \"It's overcast\"}, {'role': 'user', 'content': 'Based on the weather information received from the `get_weather` tool, generate a concise and user-friendly weather report for Blackpool on the specified day.'}]\n",
      "\n",
      "\u001b[0m\n"
     ]
    },
    {
     "name": "stdout",
     "output_type": "stream",
     "text": [
      "\n",
      "TOOL QUEUE: deque([Tool(chain_of_thought='Finally, I will use the `call_ai` tool to format the response nicely for the user.', name='call_ai', prompt='Based on the weather information received from the `get_weather` tool, generate a concise and user-friendly weather report for Blackpool on the specified day.')])\n",
      "\n"
     ]
    },
    {
     "name": "stderr",
     "output_type": "stream",
     "text": [
      "\u001b[32m2024-11-22 23:07:05.037\u001b[0m | \u001b[32m\u001b[1mSUCCESS \u001b[0m | \u001b[36mayy.leggo\u001b[0m:\u001b[36mrun_call_ai\u001b[0m:\u001b[36m67\u001b[0m - \u001b[32m\u001b[1mcall_ai result: Blackpool weather for Tuesday: Overcast\u001b[0m\n",
      "\u001b[32m2024-11-22 23:07:26.132\u001b[0m | \u001b[1mINFO    \u001b[0m | \u001b[36mayy.leggo\u001b[0m:\u001b[36mrun_tool\u001b[0m:\u001b[36m116\u001b[0m - \u001b[1m\n",
      "\n",
      "Calling get_selected_tools with messages: [{'role': 'user', 'content': 'Available tools for this task:\\nTool 1:\\n{\\'name\\': \\'ask_user\\', \\'signature\\': \\'ask_user(prompt: str) -> str\\', \\'docstring\\': \\'Prompt the user for a response\\'}\\n\\nTool 2:\\n{\\'name\\': \\'call_ai\\', \\'signature\\': \\'call_ai(inputs: Any) -> Any\\', \\'docstring\\': \\'Not a pre-defined tool.\\'}\\n\\nTool 3:\\n{\\'name\\': \\'get_random_number\\', \\'signature\\': \\'get_random_number() -> int\\', \\'docstring\\': \\'get a random number\\'}\\n\\nTool 4:\\n{\\'name\\': \\'get_weather\\', \\'signature\\': \"get_weather(day: Literal[\\'Monday\\', \\'Tuesday\\', \\'Wednesday\\', \\'Thursday\\', \\'Friday\\', \\'Saturday\\', \\'Sunday\\'], location: str) -> str\", \\'docstring\\': \\'get the weather at a day in a location\\'}\\n\\nTool 5:\\n{\\'name\\': \\'list_available_grounds\\', \\'signature\\': \\'list_available_grounds(location: str) -> list[str]\\', \\'docstring\\': \\'list all available grounds in a city\\'}\\n\\nTool 6:\\n{\\'name\\': \\'upload_video\\', \\'signature\\': \\'upload_video(video_path: str) -> str\\', \\'docstring\\': \\'save video and return the dest path\\'}'}, {'role': 'user', 'content': 'get the weather in blackpool'}, {'role': 'assistant', 'content': 'None'}, {'role': 'assistant', 'content': \"What day's weather in Blackpool are you interested in? Please provide the day of the week (e.g., Monday, Tuesday).\"}, {'role': 'user', 'content': 'tue'}, {'role': 'user', 'content': 'Please provide the day and location to get the weather.  The location is Blackpool.'}, {'role': 'assistant', 'content': \"It's overcast\"}, {'role': 'user', 'content': 'Based on the weather information received from the `get_weather` tool, generate a concise and user-friendly weather report for Blackpool on the specified day.'}, {'role': 'assistant', 'content': 'Blackpool weather for Tuesday: Overcast'}, {'role': 'user', 'content': 'Available tools for this task:\\nTool 1:\\n{\\'name\\': \\'ask_user\\', \\'signature\\': \\'ask_user(prompt: str) -> str\\', \\'docstring\\': \\'Prompt the user for a response\\'}\\n\\nTool 2:\\n{\\'name\\': \\'call_ai\\', \\'signature\\': \\'call_ai(inputs: Any) -> Any\\', \\'docstring\\': \\'Not a pre-defined tool.\\'}\\n\\nTool 3:\\n{\\'name\\': \\'get_random_number\\', \\'signature\\': \\'get_random_number() -> int\\', \\'docstring\\': \\'get a random number\\'}\\n\\nTool 4:\\n{\\'name\\': \\'get_weather\\', \\'signature\\': \"get_weather(day: Literal[\\'Monday\\', \\'Tuesday\\', \\'Wednesday\\', \\'Thursday\\', \\'Friday\\', \\'Saturday\\', \\'Sunday\\'], location: str) -> str\", \\'docstring\\': \\'get the weather at a day in a location\\'}\\n\\nTool 5:\\n{\\'name\\': \\'list_available_grounds\\', \\'signature\\': \\'list_available_grounds(location: str) -> list[str]\\', \\'docstring\\': \\'list all available grounds in a city\\'}\\n\\nTool 6:\\n{\\'name\\': \\'upload_video\\', \\'signature\\': \\'upload_video(video_path: str) -> str\\', \\'docstring\\': \\'save video and return the dest path\\'}'}, {'role': 'user', 'content': 'available grounds?'}]\n",
      "\n",
      "\u001b[0m\n"
     ]
    },
    {
     "name": "stdout",
     "output_type": "stream",
     "text": [
      "\n",
      "TOOL QUEUE: deque([Tool(chain_of_thought='', name='get_selected_tools', prompt='available grounds?')])\n",
      "\n"
     ]
    },
    {
     "name": "stderr",
     "output_type": "stream",
     "text": [
      "\u001b[32m2024-11-22 23:07:28.222\u001b[0m | \u001b[1mINFO    \u001b[0m | \u001b[36mayy.leggo\u001b[0m:\u001b[36mrun_tool\u001b[0m:\u001b[36m121\u001b[0m - \u001b[1mget_selected_tools creator_res: [SelectedTool(chain_of_thought='To get a list of available grounds, I need to know the location.  I will use the `ask_user` tool to get the location from the user, and then use the `list_available_grounds` tool to get the list of grounds.', name='ask_user', prompt='Please specify the city or location for which you want to see a list of available grounds.'), SelectedTool(chain_of_thought='Now that I have the location from the user, I can use the `list_available_grounds` tool to get the list of grounds.', name='list_available_grounds', prompt='Please provide the location received from the previous `ask_user` tool call.'), SelectedTool(chain_of_thought='Finally, I will use the `call_ai` tool to format the list of grounds into a user-friendly response.', name='call_ai', prompt=\"Here's the list of grounds: {grounds}. Please format this into a user-friendly response.\")]\u001b[0m\n",
      "\u001b[32m2024-11-22 23:07:28.223\u001b[0m | \u001b[1mINFO    \u001b[0m | \u001b[36mayy.leggo\u001b[0m:\u001b[36mrun_tool\u001b[0m:\u001b[36m122\u001b[0m - \u001b[1mget_selected_tools selected_tool: functools.partial(<function get_selected_tools at 0x7e869d348c20>, <valkey.client.Valkey(<valkey.connection.ConnectionPool(<valkey.connection.Connection(host=localhost,port=6379,db=0)>)>)>)\u001b[0m\n",
      "\u001b[32m2024-11-22 23:07:28.226\u001b[0m | \u001b[32m\u001b[1mSUCCESS \u001b[0m | \u001b[36mayy.leggo\u001b[0m:\u001b[36mrun_tool\u001b[0m:\u001b[36m127\u001b[0m - \u001b[32m\u001b[1mget_selected_tools result: None\u001b[0m\n"
     ]
    },
    {
     "name": "stdout",
     "output_type": "stream",
     "text": [
      "\n",
      "TOOL QUEUE: deque([Tool(chain_of_thought='To get a list of available grounds, I need to know the location.  I will use the `ask_user` tool to get the location from the user, and then use the `list_available_grounds` tool to get the list of grounds.', name='ask_user', prompt='Please specify the city or location for which you want to see a list of available grounds.'), Tool(chain_of_thought='Now that I have the location from the user, I can use the `list_available_grounds` tool to get the list of grounds.', name='list_available_grounds', prompt='Please provide the location received from the previous `ask_user` tool call.'), Tool(chain_of_thought='Finally, I will use the `call_ai` tool to format the list of grounds into a user-friendly response.', name='call_ai', prompt=\"Here's the list of grounds: {grounds}. Please format this into a user-friendly response.\")])\n",
      "\n"
     ]
    },
    {
     "name": "stderr",
     "output_type": "stream",
     "text": [
      "\u001b[32m2024-11-22 23:07:39.700\u001b[0m | \u001b[1mINFO    \u001b[0m | \u001b[36mayy.leggo\u001b[0m:\u001b[36mrun_tool\u001b[0m:\u001b[36m116\u001b[0m - \u001b[1m\n",
      "\n",
      "Calling list_available_grounds with messages: [{'role': 'user', 'content': 'Available tools for this task:\\nTool 1:\\n{\\'name\\': \\'ask_user\\', \\'signature\\': \\'ask_user(prompt: str) -> str\\', \\'docstring\\': \\'Prompt the user for a response\\'}\\n\\nTool 2:\\n{\\'name\\': \\'call_ai\\', \\'signature\\': \\'call_ai(inputs: Any) -> Any\\', \\'docstring\\': \\'Not a pre-defined tool.\\'}\\n\\nTool 3:\\n{\\'name\\': \\'get_random_number\\', \\'signature\\': \\'get_random_number() -> int\\', \\'docstring\\': \\'get a random number\\'}\\n\\nTool 4:\\n{\\'name\\': \\'get_weather\\', \\'signature\\': \"get_weather(day: Literal[\\'Monday\\', \\'Tuesday\\', \\'Wednesday\\', \\'Thursday\\', \\'Friday\\', \\'Saturday\\', \\'Sunday\\'], location: str) -> str\", \\'docstring\\': \\'get the weather at a day in a location\\'}\\n\\nTool 5:\\n{\\'name\\': \\'list_available_grounds\\', \\'signature\\': \\'list_available_grounds(location: str) -> list[str]\\', \\'docstring\\': \\'list all available grounds in a city\\'}\\n\\nTool 6:\\n{\\'name\\': \\'upload_video\\', \\'signature\\': \\'upload_video(video_path: str) -> str\\', \\'docstring\\': \\'save video and return the dest path\\'}'}, {'role': 'user', 'content': 'get the weather in blackpool'}, {'role': 'assistant', 'content': 'None'}, {'role': 'assistant', 'content': \"What day's weather in Blackpool are you interested in? Please provide the day of the week (e.g., Monday, Tuesday).\"}, {'role': 'user', 'content': 'tue'}, {'role': 'user', 'content': 'Please provide the day and location to get the weather.  The location is Blackpool.'}, {'role': 'assistant', 'content': \"It's overcast\"}, {'role': 'user', 'content': 'Based on the weather information received from the `get_weather` tool, generate a concise and user-friendly weather report for Blackpool on the specified day.'}, {'role': 'assistant', 'content': 'Blackpool weather for Tuesday: Overcast'}, {'role': 'user', 'content': 'Available tools for this task:\\nTool 1:\\n{\\'name\\': \\'ask_user\\', \\'signature\\': \\'ask_user(prompt: str) -> str\\', \\'docstring\\': \\'Prompt the user for a response\\'}\\n\\nTool 2:\\n{\\'name\\': \\'call_ai\\', \\'signature\\': \\'call_ai(inputs: Any) -> Any\\', \\'docstring\\': \\'Not a pre-defined tool.\\'}\\n\\nTool 3:\\n{\\'name\\': \\'get_random_number\\', \\'signature\\': \\'get_random_number() -> int\\', \\'docstring\\': \\'get a random number\\'}\\n\\nTool 4:\\n{\\'name\\': \\'get_weather\\', \\'signature\\': \"get_weather(day: Literal[\\'Monday\\', \\'Tuesday\\', \\'Wednesday\\', \\'Thursday\\', \\'Friday\\', \\'Saturday\\', \\'Sunday\\'], location: str) -> str\", \\'docstring\\': \\'get the weather at a day in a location\\'}\\n\\nTool 5:\\n{\\'name\\': \\'list_available_grounds\\', \\'signature\\': \\'list_available_grounds(location: str) -> list[str]\\', \\'docstring\\': \\'list all available grounds in a city\\'}\\n\\nTool 6:\\n{\\'name\\': \\'upload_video\\', \\'signature\\': \\'upload_video(video_path: str) -> str\\', \\'docstring\\': \\'save video and return the dest path\\'}'}, {'role': 'user', 'content': 'available grounds?'}, {'role': 'assistant', 'content': 'None'}, {'role': 'assistant', 'content': 'Please specify the city or location for which you want to see a list of available grounds.'}, {'role': 'user', 'content': 'you know already'}, {'role': 'user', 'content': 'Please provide the location received from the previous `ask_user` tool call.'}]\n",
      "\n",
      "\u001b[0m\n"
     ]
    },
    {
     "name": "stdout",
     "output_type": "stream",
     "text": [
      "\n",
      "TOOL QUEUE: deque([Tool(chain_of_thought='Now that I have the location from the user, I can use the `list_available_grounds` tool to get the list of grounds.', name='list_available_grounds', prompt='Please provide the location received from the previous `ask_user` tool call.'), Tool(chain_of_thought='Finally, I will use the `call_ai` tool to format the list of grounds into a user-friendly response.', name='call_ai', prompt=\"Here's the list of grounds: {grounds}. Please format this into a user-friendly response.\")])\n",
      "\n"
     ]
    },
    {
     "name": "stderr",
     "output_type": "stream",
     "text": [
      "\u001b[32m2024-11-22 23:07:40.388\u001b[0m | \u001b[1mINFO    \u001b[0m | \u001b[36mayy.leggo\u001b[0m:\u001b[36mrun_tool\u001b[0m:\u001b[36m121\u001b[0m - \u001b[1mlist_available_grounds creator_res: location='Blackpool'\u001b[0m\n",
      "\u001b[32m2024-11-22 23:07:40.390\u001b[0m | \u001b[1mINFO    \u001b[0m | \u001b[36mayy.leggo\u001b[0m:\u001b[36mrun_tool\u001b[0m:\u001b[36m122\u001b[0m - \u001b[1mlist_available_grounds selected_tool: <function list_available_grounds at 0x7e869d3bf060>\u001b[0m\n",
      "\u001b[32m2024-11-22 23:07:40.390\u001b[0m | \u001b[32m\u001b[1mSUCCESS \u001b[0m | \u001b[36mayy.leggo\u001b[0m:\u001b[36mrun_tool\u001b[0m:\u001b[36m127\u001b[0m - \u001b[32m\u001b[1mlist_available_grounds result: ['The Hawthorns', 'The Den', 'The New Den']\u001b[0m\n",
      "\u001b[32m2024-11-22 23:07:40.393\u001b[0m | \u001b[1mINFO    \u001b[0m | \u001b[36mayy.leggo\u001b[0m:\u001b[36mrun_call_ai\u001b[0m:\u001b[36m65\u001b[0m - \u001b[1m\n",
      "\n",
      "Calling AI with messages: [{'role': 'user', 'content': 'Available tools for this task:\\nTool 1:\\n{\\'name\\': \\'ask_user\\', \\'signature\\': \\'ask_user(prompt: str) -> str\\', \\'docstring\\': \\'Prompt the user for a response\\'}\\n\\nTool 2:\\n{\\'name\\': \\'call_ai\\', \\'signature\\': \\'call_ai(inputs: Any) -> Any\\', \\'docstring\\': \\'Not a pre-defined tool.\\'}\\n\\nTool 3:\\n{\\'name\\': \\'get_random_number\\', \\'signature\\': \\'get_random_number() -> int\\', \\'docstring\\': \\'get a random number\\'}\\n\\nTool 4:\\n{\\'name\\': \\'get_weather\\', \\'signature\\': \"get_weather(day: Literal[\\'Monday\\', \\'Tuesday\\', \\'Wednesday\\', \\'Thursday\\', \\'Friday\\', \\'Saturday\\', \\'Sunday\\'], location: str) -> str\", \\'docstring\\': \\'get the weather at a day in a location\\'}\\n\\nTool 5:\\n{\\'name\\': \\'list_available_grounds\\', \\'signature\\': \\'list_available_grounds(location: str) -> list[str]\\', \\'docstring\\': \\'list all available grounds in a city\\'}\\n\\nTool 6:\\n{\\'name\\': \\'upload_video\\', \\'signature\\': \\'upload_video(video_path: str) -> str\\', \\'docstring\\': \\'save video and return the dest path\\'}'}, {'role': 'user', 'content': 'get the weather in blackpool'}, {'role': 'assistant', 'content': 'None'}, {'role': 'assistant', 'content': \"What day's weather in Blackpool are you interested in? Please provide the day of the week (e.g., Monday, Tuesday).\"}, {'role': 'user', 'content': 'tue'}, {'role': 'user', 'content': 'Please provide the day and location to get the weather.  The location is Blackpool.'}, {'role': 'assistant', 'content': \"It's overcast\"}, {'role': 'user', 'content': 'Based on the weather information received from the `get_weather` tool, generate a concise and user-friendly weather report for Blackpool on the specified day.'}, {'role': 'assistant', 'content': 'Blackpool weather for Tuesday: Overcast'}, {'role': 'user', 'content': 'Available tools for this task:\\nTool 1:\\n{\\'name\\': \\'ask_user\\', \\'signature\\': \\'ask_user(prompt: str) -> str\\', \\'docstring\\': \\'Prompt the user for a response\\'}\\n\\nTool 2:\\n{\\'name\\': \\'call_ai\\', \\'signature\\': \\'call_ai(inputs: Any) -> Any\\', \\'docstring\\': \\'Not a pre-defined tool.\\'}\\n\\nTool 3:\\n{\\'name\\': \\'get_random_number\\', \\'signature\\': \\'get_random_number() -> int\\', \\'docstring\\': \\'get a random number\\'}\\n\\nTool 4:\\n{\\'name\\': \\'get_weather\\', \\'signature\\': \"get_weather(day: Literal[\\'Monday\\', \\'Tuesday\\', \\'Wednesday\\', \\'Thursday\\', \\'Friday\\', \\'Saturday\\', \\'Sunday\\'], location: str) -> str\", \\'docstring\\': \\'get the weather at a day in a location\\'}\\n\\nTool 5:\\n{\\'name\\': \\'list_available_grounds\\', \\'signature\\': \\'list_available_grounds(location: str) -> list[str]\\', \\'docstring\\': \\'list all available grounds in a city\\'}\\n\\nTool 6:\\n{\\'name\\': \\'upload_video\\', \\'signature\\': \\'upload_video(video_path: str) -> str\\', \\'docstring\\': \\'save video and return the dest path\\'}'}, {'role': 'user', 'content': 'available grounds?'}, {'role': 'assistant', 'content': 'None'}, {'role': 'assistant', 'content': 'Please specify the city or location for which you want to see a list of available grounds.'}, {'role': 'user', 'content': 'you know already'}, {'role': 'user', 'content': 'Please provide the location received from the previous `ask_user` tool call.'}, {'role': 'assistant', 'content': \"['The Hawthorns', 'The Den', 'The New Den']\"}, {'role': 'user', 'content': \"Here's the list of grounds: {grounds}. Please format this into a user-friendly response.\"}]\n",
      "\n",
      "\u001b[0m\n"
     ]
    },
    {
     "name": "stdout",
     "output_type": "stream",
     "text": [
      "\n",
      "TOOL QUEUE: deque([Tool(chain_of_thought='Finally, I will use the `call_ai` tool to format the list of grounds into a user-friendly response.', name='call_ai', prompt=\"Here's the list of grounds: {grounds}. Please format this into a user-friendly response.\")])\n",
      "\n"
     ]
    },
    {
     "name": "stderr",
     "output_type": "stream",
     "text": [
      "\u001b[32m2024-11-22 23:07:41.447\u001b[0m | \u001b[32m\u001b[1mSUCCESS \u001b[0m | \u001b[36mayy.leggo\u001b[0m:\u001b[36mrun_call_ai\u001b[0m:\u001b[36m67\u001b[0m - \u001b[32m\u001b[1mcall_ai result: Available grounds:\n",
      "- The Hawthorns\n",
      "- The Den\n",
      "- The New Den\u001b[0m\n",
      "\u001b[32m2024-11-22 23:07:41.451\u001b[0m | \u001b[32m\u001b[1mSUCCESS \u001b[0m | \u001b[36mayy.leggo\u001b[0m:\u001b[36mrun_tools\u001b[0m:\u001b[36m208\u001b[0m - \u001b[32m\u001b[1mMessages: [{'role': 'user', 'content': \"Here's the list of grounds: {grounds}. Please format this into a user-friendly response.\"}, {'role': 'assistant', 'content': 'Available grounds:\\n- The Hawthorns\\n- The Den\\n- The New Den'}]\u001b[0m\n",
      "\u001b[32m2024-11-22 23:07:42.201\u001b[0m | \u001b[32m\u001b[1mSUCCESS \u001b[0m | \u001b[36mayy.leggo\u001b[0m:\u001b[36mrun_tools\u001b[0m:\u001b[36m204\u001b[0m - \u001b[32m\u001b[1mai response: Available grounds:\n",
      "- The Hawthorns\n",
      "- The Den\n",
      "- The New Den\u001b[0m\n",
      "\u001b[32m2024-11-22 23:08:11.637\u001b[0m | \u001b[1mINFO    \u001b[0m | \u001b[36mayy.leggo\u001b[0m:\u001b[36mrun_tool\u001b[0m:\u001b[36m116\u001b[0m - \u001b[1m\n",
      "\n",
      "Calling get_selected_tools with messages: [{'role': 'user', 'content': 'Available tools for this task:\\nTool 1:\\n{\\'name\\': \\'ask_user\\', \\'signature\\': \\'ask_user(prompt: str) -> str\\', \\'docstring\\': \\'Prompt the user for a response\\'}\\n\\nTool 2:\\n{\\'name\\': \\'call_ai\\', \\'signature\\': \\'call_ai(inputs: Any) -> Any\\', \\'docstring\\': \\'Not a pre-defined tool.\\'}\\n\\nTool 3:\\n{\\'name\\': \\'get_random_number\\', \\'signature\\': \\'get_random_number() -> int\\', \\'docstring\\': \\'get a random number\\'}\\n\\nTool 4:\\n{\\'name\\': \\'get_weather\\', \\'signature\\': \"get_weather(day: Literal[\\'Monday\\', \\'Tuesday\\', \\'Wednesday\\', \\'Thursday\\', \\'Friday\\', \\'Saturday\\', \\'Sunday\\'], location: str) -> str\", \\'docstring\\': \\'get the weather at a day in a location\\'}\\n\\nTool 5:\\n{\\'name\\': \\'list_available_grounds\\', \\'signature\\': \\'list_available_grounds(location: str) -> list[str]\\', \\'docstring\\': \\'list all available grounds in a city\\'}\\n\\nTool 6:\\n{\\'name\\': \\'upload_video\\', \\'signature\\': \\'upload_video(video_path: str) -> str\\', \\'docstring\\': \\'save video and return the dest path\\'}'}, {'role': 'user', 'content': 'get the weather in blackpool'}, {'role': 'assistant', 'content': 'None'}, {'role': 'assistant', 'content': \"What day's weather in Blackpool are you interested in? Please provide the day of the week (e.g., Monday, Tuesday).\"}, {'role': 'user', 'content': 'tue'}, {'role': 'user', 'content': 'Please provide the day and location to get the weather.  The location is Blackpool.'}, {'role': 'assistant', 'content': \"It's overcast\"}, {'role': 'user', 'content': 'Based on the weather information received from the `get_weather` tool, generate a concise and user-friendly weather report for Blackpool on the specified day.'}, {'role': 'assistant', 'content': 'Blackpool weather for Tuesday: Overcast'}, {'role': 'user', 'content': 'Available tools for this task:\\nTool 1:\\n{\\'name\\': \\'ask_user\\', \\'signature\\': \\'ask_user(prompt: str) -> str\\', \\'docstring\\': \\'Prompt the user for a response\\'}\\n\\nTool 2:\\n{\\'name\\': \\'call_ai\\', \\'signature\\': \\'call_ai(inputs: Any) -> Any\\', \\'docstring\\': \\'Not a pre-defined tool.\\'}\\n\\nTool 3:\\n{\\'name\\': \\'get_random_number\\', \\'signature\\': \\'get_random_number() -> int\\', \\'docstring\\': \\'get a random number\\'}\\n\\nTool 4:\\n{\\'name\\': \\'get_weather\\', \\'signature\\': \"get_weather(day: Literal[\\'Monday\\', \\'Tuesday\\', \\'Wednesday\\', \\'Thursday\\', \\'Friday\\', \\'Saturday\\', \\'Sunday\\'], location: str) -> str\", \\'docstring\\': \\'get the weather at a day in a location\\'}\\n\\nTool 5:\\n{\\'name\\': \\'list_available_grounds\\', \\'signature\\': \\'list_available_grounds(location: str) -> list[str]\\', \\'docstring\\': \\'list all available grounds in a city\\'}\\n\\nTool 6:\\n{\\'name\\': \\'upload_video\\', \\'signature\\': \\'upload_video(video_path: str) -> str\\', \\'docstring\\': \\'save video and return the dest path\\'}'}, {'role': 'user', 'content': 'available grounds?'}, {'role': 'assistant', 'content': 'None'}, {'role': 'assistant', 'content': 'Please specify the city or location for which you want to see a list of available grounds.'}, {'role': 'user', 'content': 'you know already'}, {'role': 'user', 'content': 'Please provide the location received from the previous `ask_user` tool call.'}, {'role': 'assistant', 'content': \"['The Hawthorns', 'The Den', 'The New Den']\"}, {'role': 'user', 'content': \"Here's the list of grounds: {grounds}. Please format this into a user-friendly response.\"}, {'role': 'assistant', 'content': 'Available grounds:\\n- The Hawthorns\\n- The Den\\n- The New Den'}, {'role': 'assistant', 'content': 'Available grounds:\\n- The Hawthorns\\n- The Den\\n- The New Den'}, {'role': 'user', 'content': 'Available tools for this task:\\nTool 1:\\n{\\'name\\': \\'ask_user\\', \\'signature\\': \\'ask_user(prompt: str) -> str\\', \\'docstring\\': \\'Prompt the user for a response\\'}\\n\\nTool 2:\\n{\\'name\\': \\'call_ai\\', \\'signature\\': \\'call_ai(inputs: Any) -> Any\\', \\'docstring\\': \\'Not a pre-defined tool.\\'}\\n\\nTool 3:\\n{\\'name\\': \\'get_random_number\\', \\'signature\\': \\'get_random_number() -> int\\', \\'docstring\\': \\'get a random number\\'}\\n\\nTool 4:\\n{\\'name\\': \\'get_weather\\', \\'signature\\': \"get_weather(day: Literal[\\'Monday\\', \\'Tuesday\\', \\'Wednesday\\', \\'Thursday\\', \\'Friday\\', \\'Saturday\\', \\'Sunday\\'], location: str) -> str\", \\'docstring\\': \\'get the weather at a day in a location\\'}\\n\\nTool 5:\\n{\\'name\\': \\'list_available_grounds\\', \\'signature\\': \\'list_available_grounds(location: str) -> list[str]\\', \\'docstring\\': \\'list all available grounds in a city\\'}\\n\\nTool 6:\\n{\\'name\\': \\'upload_video\\', \\'signature\\': \\'upload_video(video_path: str) -> str\\', \\'docstring\\': \\'save video and return the dest path\\'}'}, {'role': 'user', 'content': 'what about in london?'}]\n",
      "\n",
      "\u001b[0m\n"
     ]
    },
    {
     "name": "stdout",
     "output_type": "stream",
     "text": [
      "\n",
      "TOOL QUEUE: deque([Tool(chain_of_thought='', name='get_selected_tools', prompt='what about in london?')])\n",
      "\n"
     ]
    },
    {
     "name": "stderr",
     "output_type": "stream",
     "text": [
      "\u001b[32m2024-11-22 23:08:13.267\u001b[0m | \u001b[1mINFO    \u001b[0m | \u001b[36mayy.leggo\u001b[0m:\u001b[36mrun_tool\u001b[0m:\u001b[36m121\u001b[0m - \u001b[1mget_selected_tools creator_res: [SelectedTool(chain_of_thought='The user is asking for available grounds in London.  I need to use the `list_available_grounds` tool.  The tool requires a location, which is London.', name='list_available_grounds', prompt='location: \"London\"'), SelectedTool(chain_of_thought='The `list_available_grounds` tool returned a list of grounds. I need to format this into a user-friendly response using the `call_ai` tool.', name='call_ai', prompt=\"Here's the list of grounds: {grounds}. Please format this into a user-friendly response.\")]\u001b[0m\n",
      "\u001b[32m2024-11-22 23:08:13.269\u001b[0m | \u001b[1mINFO    \u001b[0m | \u001b[36mayy.leggo\u001b[0m:\u001b[36mrun_tool\u001b[0m:\u001b[36m122\u001b[0m - \u001b[1mget_selected_tools selected_tool: functools.partial(<function get_selected_tools at 0x7e869d348c20>, <valkey.client.Valkey(<valkey.connection.ConnectionPool(<valkey.connection.Connection(host=localhost,port=6379,db=0)>)>)>)\u001b[0m\n",
      "\u001b[32m2024-11-22 23:08:13.272\u001b[0m | \u001b[32m\u001b[1mSUCCESS \u001b[0m | \u001b[36mayy.leggo\u001b[0m:\u001b[36mrun_tool\u001b[0m:\u001b[36m127\u001b[0m - \u001b[32m\u001b[1mget_selected_tools result: None\u001b[0m\n",
      "\u001b[32m2024-11-22 23:08:13.278\u001b[0m | \u001b[1mINFO    \u001b[0m | \u001b[36mayy.leggo\u001b[0m:\u001b[36mrun_tool\u001b[0m:\u001b[36m116\u001b[0m - \u001b[1m\n",
      "\n",
      "Calling list_available_grounds with messages: [{'role': 'user', 'content': 'Available tools for this task:\\nTool 1:\\n{\\'name\\': \\'ask_user\\', \\'signature\\': \\'ask_user(prompt: str) -> str\\', \\'docstring\\': \\'Prompt the user for a response\\'}\\n\\nTool 2:\\n{\\'name\\': \\'call_ai\\', \\'signature\\': \\'call_ai(inputs: Any) -> Any\\', \\'docstring\\': \\'Not a pre-defined tool.\\'}\\n\\nTool 3:\\n{\\'name\\': \\'get_random_number\\', \\'signature\\': \\'get_random_number() -> int\\', \\'docstring\\': \\'get a random number\\'}\\n\\nTool 4:\\n{\\'name\\': \\'get_weather\\', \\'signature\\': \"get_weather(day: Literal[\\'Monday\\', \\'Tuesday\\', \\'Wednesday\\', \\'Thursday\\', \\'Friday\\', \\'Saturday\\', \\'Sunday\\'], location: str) -> str\", \\'docstring\\': \\'get the weather at a day in a location\\'}\\n\\nTool 5:\\n{\\'name\\': \\'list_available_grounds\\', \\'signature\\': \\'list_available_grounds(location: str) -> list[str]\\', \\'docstring\\': \\'list all available grounds in a city\\'}\\n\\nTool 6:\\n{\\'name\\': \\'upload_video\\', \\'signature\\': \\'upload_video(video_path: str) -> str\\', \\'docstring\\': \\'save video and return the dest path\\'}'}, {'role': 'user', 'content': 'get the weather in blackpool'}, {'role': 'assistant', 'content': 'None'}, {'role': 'assistant', 'content': \"What day's weather in Blackpool are you interested in? Please provide the day of the week (e.g., Monday, Tuesday).\"}, {'role': 'user', 'content': 'tue'}, {'role': 'user', 'content': 'Please provide the day and location to get the weather.  The location is Blackpool.'}, {'role': 'assistant', 'content': \"It's overcast\"}, {'role': 'user', 'content': 'Based on the weather information received from the `get_weather` tool, generate a concise and user-friendly weather report for Blackpool on the specified day.'}, {'role': 'assistant', 'content': 'Blackpool weather for Tuesday: Overcast'}, {'role': 'user', 'content': 'Available tools for this task:\\nTool 1:\\n{\\'name\\': \\'ask_user\\', \\'signature\\': \\'ask_user(prompt: str) -> str\\', \\'docstring\\': \\'Prompt the user for a response\\'}\\n\\nTool 2:\\n{\\'name\\': \\'call_ai\\', \\'signature\\': \\'call_ai(inputs: Any) -> Any\\', \\'docstring\\': \\'Not a pre-defined tool.\\'}\\n\\nTool 3:\\n{\\'name\\': \\'get_random_number\\', \\'signature\\': \\'get_random_number() -> int\\', \\'docstring\\': \\'get a random number\\'}\\n\\nTool 4:\\n{\\'name\\': \\'get_weather\\', \\'signature\\': \"get_weather(day: Literal[\\'Monday\\', \\'Tuesday\\', \\'Wednesday\\', \\'Thursday\\', \\'Friday\\', \\'Saturday\\', \\'Sunday\\'], location: str) -> str\", \\'docstring\\': \\'get the weather at a day in a location\\'}\\n\\nTool 5:\\n{\\'name\\': \\'list_available_grounds\\', \\'signature\\': \\'list_available_grounds(location: str) -> list[str]\\', \\'docstring\\': \\'list all available grounds in a city\\'}\\n\\nTool 6:\\n{\\'name\\': \\'upload_video\\', \\'signature\\': \\'upload_video(video_path: str) -> str\\', \\'docstring\\': \\'save video and return the dest path\\'}'}, {'role': 'user', 'content': 'available grounds?'}, {'role': 'assistant', 'content': 'None'}, {'role': 'assistant', 'content': 'Please specify the city or location for which you want to see a list of available grounds.'}, {'role': 'user', 'content': 'you know already'}, {'role': 'user', 'content': 'Please provide the location received from the previous `ask_user` tool call.'}, {'role': 'assistant', 'content': \"['The Hawthorns', 'The Den', 'The New Den']\"}, {'role': 'user', 'content': \"Here's the list of grounds: {grounds}. Please format this into a user-friendly response.\"}, {'role': 'assistant', 'content': 'Available grounds:\\n- The Hawthorns\\n- The Den\\n- The New Den'}, {'role': 'assistant', 'content': 'Available grounds:\\n- The Hawthorns\\n- The Den\\n- The New Den'}, {'role': 'user', 'content': 'Available tools for this task:\\nTool 1:\\n{\\'name\\': \\'ask_user\\', \\'signature\\': \\'ask_user(prompt: str) -> str\\', \\'docstring\\': \\'Prompt the user for a response\\'}\\n\\nTool 2:\\n{\\'name\\': \\'call_ai\\', \\'signature\\': \\'call_ai(inputs: Any) -> Any\\', \\'docstring\\': \\'Not a pre-defined tool.\\'}\\n\\nTool 3:\\n{\\'name\\': \\'get_random_number\\', \\'signature\\': \\'get_random_number() -> int\\', \\'docstring\\': \\'get a random number\\'}\\n\\nTool 4:\\n{\\'name\\': \\'get_weather\\', \\'signature\\': \"get_weather(day: Literal[\\'Monday\\', \\'Tuesday\\', \\'Wednesday\\', \\'Thursday\\', \\'Friday\\', \\'Saturday\\', \\'Sunday\\'], location: str) -> str\", \\'docstring\\': \\'get the weather at a day in a location\\'}\\n\\nTool 5:\\n{\\'name\\': \\'list_available_grounds\\', \\'signature\\': \\'list_available_grounds(location: str) -> list[str]\\', \\'docstring\\': \\'list all available grounds in a city\\'}\\n\\nTool 6:\\n{\\'name\\': \\'upload_video\\', \\'signature\\': \\'upload_video(video_path: str) -> str\\', \\'docstring\\': \\'save video and return the dest path\\'}'}, {'role': 'user', 'content': 'what about in london?'}, {'role': 'assistant', 'content': 'None'}, {'role': 'user', 'content': 'location: \"London\"'}]\n",
      "\n",
      "\u001b[0m\n"
     ]
    },
    {
     "name": "stdout",
     "output_type": "stream",
     "text": [
      "\n",
      "TOOL QUEUE: deque([Tool(chain_of_thought='The user is asking for available grounds in London.  I need to use the `list_available_grounds` tool.  The tool requires a location, which is London.', name='list_available_grounds', prompt='location: \"London\"'), Tool(chain_of_thought='The `list_available_grounds` tool returned a list of grounds. I need to format this into a user-friendly response using the `call_ai` tool.', name='call_ai', prompt=\"Here's the list of grounds: {grounds}. Please format this into a user-friendly response.\")])\n",
      "\n"
     ]
    },
    {
     "name": "stderr",
     "output_type": "stream",
     "text": [
      "\u001b[32m2024-11-22 23:08:13.959\u001b[0m | \u001b[1mINFO    \u001b[0m | \u001b[36mayy.leggo\u001b[0m:\u001b[36mrun_tool\u001b[0m:\u001b[36m121\u001b[0m - \u001b[1mlist_available_grounds creator_res: location='London'\u001b[0m\n",
      "\u001b[32m2024-11-22 23:08:13.960\u001b[0m | \u001b[1mINFO    \u001b[0m | \u001b[36mayy.leggo\u001b[0m:\u001b[36mrun_tool\u001b[0m:\u001b[36m122\u001b[0m - \u001b[1mlist_available_grounds selected_tool: <function list_available_grounds at 0x7e869d3bf060>\u001b[0m\n",
      "\u001b[32m2024-11-22 23:08:13.961\u001b[0m | \u001b[32m\u001b[1mSUCCESS \u001b[0m | \u001b[36mayy.leggo\u001b[0m:\u001b[36mrun_tool\u001b[0m:\u001b[36m127\u001b[0m - \u001b[32m\u001b[1mlist_available_grounds result: ['The Olympic Stadium', 'The Emirates Stadium', 'The Wembley Stadium']\u001b[0m\n",
      "\u001b[32m2024-11-22 23:08:13.965\u001b[0m | \u001b[1mINFO    \u001b[0m | \u001b[36mayy.leggo\u001b[0m:\u001b[36mrun_call_ai\u001b[0m:\u001b[36m65\u001b[0m - \u001b[1m\n",
      "\n",
      "Calling AI with messages: [{'role': 'user', 'content': 'Available tools for this task:\\nTool 1:\\n{\\'name\\': \\'ask_user\\', \\'signature\\': \\'ask_user(prompt: str) -> str\\', \\'docstring\\': \\'Prompt the user for a response\\'}\\n\\nTool 2:\\n{\\'name\\': \\'call_ai\\', \\'signature\\': \\'call_ai(inputs: Any) -> Any\\', \\'docstring\\': \\'Not a pre-defined tool.\\'}\\n\\nTool 3:\\n{\\'name\\': \\'get_random_number\\', \\'signature\\': \\'get_random_number() -> int\\', \\'docstring\\': \\'get a random number\\'}\\n\\nTool 4:\\n{\\'name\\': \\'get_weather\\', \\'signature\\': \"get_weather(day: Literal[\\'Monday\\', \\'Tuesday\\', \\'Wednesday\\', \\'Thursday\\', \\'Friday\\', \\'Saturday\\', \\'Sunday\\'], location: str) -> str\", \\'docstring\\': \\'get the weather at a day in a location\\'}\\n\\nTool 5:\\n{\\'name\\': \\'list_available_grounds\\', \\'signature\\': \\'list_available_grounds(location: str) -> list[str]\\', \\'docstring\\': \\'list all available grounds in a city\\'}\\n\\nTool 6:\\n{\\'name\\': \\'upload_video\\', \\'signature\\': \\'upload_video(video_path: str) -> str\\', \\'docstring\\': \\'save video and return the dest path\\'}'}, {'role': 'user', 'content': 'get the weather in blackpool'}, {'role': 'assistant', 'content': 'None'}, {'role': 'assistant', 'content': \"What day's weather in Blackpool are you interested in? Please provide the day of the week (e.g., Monday, Tuesday).\"}, {'role': 'user', 'content': 'tue'}, {'role': 'user', 'content': 'Please provide the day and location to get the weather.  The location is Blackpool.'}, {'role': 'assistant', 'content': \"It's overcast\"}, {'role': 'user', 'content': 'Based on the weather information received from the `get_weather` tool, generate a concise and user-friendly weather report for Blackpool on the specified day.'}, {'role': 'assistant', 'content': 'Blackpool weather for Tuesday: Overcast'}, {'role': 'user', 'content': 'Available tools for this task:\\nTool 1:\\n{\\'name\\': \\'ask_user\\', \\'signature\\': \\'ask_user(prompt: str) -> str\\', \\'docstring\\': \\'Prompt the user for a response\\'}\\n\\nTool 2:\\n{\\'name\\': \\'call_ai\\', \\'signature\\': \\'call_ai(inputs: Any) -> Any\\', \\'docstring\\': \\'Not a pre-defined tool.\\'}\\n\\nTool 3:\\n{\\'name\\': \\'get_random_number\\', \\'signature\\': \\'get_random_number() -> int\\', \\'docstring\\': \\'get a random number\\'}\\n\\nTool 4:\\n{\\'name\\': \\'get_weather\\', \\'signature\\': \"get_weather(day: Literal[\\'Monday\\', \\'Tuesday\\', \\'Wednesday\\', \\'Thursday\\', \\'Friday\\', \\'Saturday\\', \\'Sunday\\'], location: str) -> str\", \\'docstring\\': \\'get the weather at a day in a location\\'}\\n\\nTool 5:\\n{\\'name\\': \\'list_available_grounds\\', \\'signature\\': \\'list_available_grounds(location: str) -> list[str]\\', \\'docstring\\': \\'list all available grounds in a city\\'}\\n\\nTool 6:\\n{\\'name\\': \\'upload_video\\', \\'signature\\': \\'upload_video(video_path: str) -> str\\', \\'docstring\\': \\'save video and return the dest path\\'}'}, {'role': 'user', 'content': 'available grounds?'}, {'role': 'assistant', 'content': 'None'}, {'role': 'assistant', 'content': 'Please specify the city or location for which you want to see a list of available grounds.'}, {'role': 'user', 'content': 'you know already'}, {'role': 'user', 'content': 'Please provide the location received from the previous `ask_user` tool call.'}, {'role': 'assistant', 'content': \"['The Hawthorns', 'The Den', 'The New Den']\"}, {'role': 'user', 'content': \"Here's the list of grounds: {grounds}. Please format this into a user-friendly response.\"}, {'role': 'assistant', 'content': 'Available grounds:\\n- The Hawthorns\\n- The Den\\n- The New Den'}, {'role': 'assistant', 'content': 'Available grounds:\\n- The Hawthorns\\n- The Den\\n- The New Den'}, {'role': 'user', 'content': 'Available tools for this task:\\nTool 1:\\n{\\'name\\': \\'ask_user\\', \\'signature\\': \\'ask_user(prompt: str) -> str\\', \\'docstring\\': \\'Prompt the user for a response\\'}\\n\\nTool 2:\\n{\\'name\\': \\'call_ai\\', \\'signature\\': \\'call_ai(inputs: Any) -> Any\\', \\'docstring\\': \\'Not a pre-defined tool.\\'}\\n\\nTool 3:\\n{\\'name\\': \\'get_random_number\\', \\'signature\\': \\'get_random_number() -> int\\', \\'docstring\\': \\'get a random number\\'}\\n\\nTool 4:\\n{\\'name\\': \\'get_weather\\', \\'signature\\': \"get_weather(day: Literal[\\'Monday\\', \\'Tuesday\\', \\'Wednesday\\', \\'Thursday\\', \\'Friday\\', \\'Saturday\\', \\'Sunday\\'], location: str) -> str\", \\'docstring\\': \\'get the weather at a day in a location\\'}\\n\\nTool 5:\\n{\\'name\\': \\'list_available_grounds\\', \\'signature\\': \\'list_available_grounds(location: str) -> list[str]\\', \\'docstring\\': \\'list all available grounds in a city\\'}\\n\\nTool 6:\\n{\\'name\\': \\'upload_video\\', \\'signature\\': \\'upload_video(video_path: str) -> str\\', \\'docstring\\': \\'save video and return the dest path\\'}'}, {'role': 'user', 'content': 'what about in london?'}, {'role': 'assistant', 'content': 'None'}, {'role': 'user', 'content': 'location: \"London\"'}, {'role': 'assistant', 'content': \"['The Olympic Stadium', 'The Emirates Stadium', 'The Wembley Stadium']\"}, {'role': 'user', 'content': \"Here's the list of grounds: {grounds}. Please format this into a user-friendly response.\"}]\n",
      "\n",
      "\u001b[0m\n"
     ]
    },
    {
     "name": "stdout",
     "output_type": "stream",
     "text": [
      "\n",
      "TOOL QUEUE: deque([Tool(chain_of_thought='The `list_available_grounds` tool returned a list of grounds. I need to format this into a user-friendly response using the `call_ai` tool.', name='call_ai', prompt=\"Here's the list of grounds: {grounds}. Please format this into a user-friendly response.\")])\n",
      "\n"
     ]
    },
    {
     "name": "stderr",
     "output_type": "stream",
     "text": [
      "\u001b[32m2024-11-22 23:08:14.950\u001b[0m | \u001b[32m\u001b[1mSUCCESS \u001b[0m | \u001b[36mayy.leggo\u001b[0m:\u001b[36mrun_call_ai\u001b[0m:\u001b[36m67\u001b[0m - \u001b[32m\u001b[1mcall_ai result: Available grounds in London:\n",
      "- The Olympic Stadium\n",
      "- The Emirates Stadium\n",
      "- The Wembley Stadium\u001b[0m\n",
      "\u001b[32m2024-11-22 23:08:14.951\u001b[0m | \u001b[32m\u001b[1mSUCCESS \u001b[0m | \u001b[36mayy.leggo\u001b[0m:\u001b[36mrun_tools\u001b[0m:\u001b[36m208\u001b[0m - \u001b[32m\u001b[1mMessages: [{'role': 'user', 'content': \"Here's the list of grounds: {grounds}. Please format this into a user-friendly response.\"}, {'role': 'assistant', 'content': 'Available grounds in London:\\n- The Olympic Stadium\\n- The Emirates Stadium\\n- The Wembley Stadium'}]\u001b[0m\n",
      "\u001b[32m2024-11-22 23:08:19.947\u001b[0m | \u001b[32m\u001b[1mSUCCESS \u001b[0m | \u001b[36mayy.leggo\u001b[0m:\u001b[36mrun_tools\u001b[0m:\u001b[36m208\u001b[0m - \u001b[32m\u001b[1mMessages: [{'role': 'user', 'content': \"Here's the list of grounds: {grounds}. Please format this into a user-friendly response.\"}, {'role': 'assistant', 'content': 'Available grounds in London:\\n- The Olympic Stadium\\n- The Emirates Stadium\\n- The Wembley Stadium'}]\u001b[0m\n"
     ]
    }
   ],
   "source": [
    "MODEL_NAME = ModelName.GEMINI_FLASH\n",
    "\n",
    "# Initialize Valkey client\n",
    "valkey_client = Valkey()\n",
    "\n",
    "creator = create_creator(model_name=MODEL_NAME)\n",
    "dialog = new_task(\n",
    "    valkey_client,\n",
    "    dialog=Dialog(system=Path(\"src/ayy/selector_task.txt\").read_text(), model_name=MODEL_NAME),\n",
    "    task=\"get the weather in blackpool\",\n",
    ")\n",
    "\n",
    "runner_dialog = run_tools(valkey_client, creator=creator, dialog=dialog)\n"
   ]
  },
  {
   "cell_type": "code",
   "execution_count": 7,
   "metadata": {},
   "outputs": [
    {
     "data": {
      "text/plain": [
       "False"
      ]
     },
     "execution_count": 7,
     "metadata": {},
     "output_type": "execute_result"
    }
   ],
   "source": [
    "a = set([\"a\", \"b\", \"c\"])\n",
    "a = a | {\"a\"}\n",
    "\"d\" in a"
   ]
  },
  {
   "cell_type": "code",
   "execution_count": 10,
   "metadata": {},
   "outputs": [
    {
     "data": {
      "text/plain": [
       "{'a', 'b', 'c'}"
      ]
     },
     "execution_count": 10,
     "metadata": {},
     "output_type": "execute_result"
    }
   ],
   "source": [
    "set([]) |a"
   ]
  },
  {
   "cell_type": "code",
   "execution_count": 11,
   "metadata": {},
   "outputs": [
    {
     "data": {
      "text/plain": [
       "set"
      ]
     },
     "execution_count": 11,
     "metadata": {},
     "output_type": "execute_result"
    }
   ],
   "source": [
    "type(a)"
   ]
  },
  {
   "cell_type": "code",
   "execution_count": null,
   "metadata": {},
   "outputs": [],
   "source": []
  }
 ],
 "metadata": {
  "kernelspec": {
   "display_name": ".venv",
   "language": "python",
   "name": "python3"
  },
  "language_info": {
   "codemirror_mode": {
    "name": "ipython",
    "version": 3
   },
   "file_extension": ".py",
   "mimetype": "text/x-python",
   "name": "python",
   "nbconvert_exporter": "python",
   "pygments_lexer": "ipython3",
   "version": "3.12.7"
  }
 },
 "nbformat": 4,
 "nbformat_minor": 2
}
