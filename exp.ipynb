{
 "cells": [
  {
   "cell_type": "code",
   "execution_count": 8,
   "metadata": {},
   "outputs": [
    {
     "name": "stderr",
     "output_type": "stream",
     "text": [
      "\u001b[32m2024-11-28 04:39:36.457\u001b[0m | \u001b[33m\u001b[1mWARNING \u001b[0m | \u001b[36mayy.dialog\u001b[0m:\u001b[36mload_content\u001b[0m:\u001b[36m45\u001b[0m - \u001b[33m\u001b[1mCould not load content as a file: [Errno 2] No such file or directory: 'This is the system message.'\u001b[0m\n",
      "\u001b[32m2024-11-28 04:39:36.457\u001b[0m | \u001b[33m\u001b[1mWARNING \u001b[0m | \u001b[36mayy.dialog\u001b[0m:\u001b[36mload_content\u001b[0m:\u001b[36m45\u001b[0m - \u001b[33m\u001b[1mCould not load content as a file: [Errno 2] No such file or directory: 'assistant'\u001b[0m\n",
      "\u001b[32m2024-11-28 04:39:36.458\u001b[0m | \u001b[33m\u001b[1mWARNING \u001b[0m | \u001b[36mayy.dialog\u001b[0m:\u001b[36mload_content\u001b[0m:\u001b[36m45\u001b[0m - \u001b[33m\u001b[1mCould not load content as a file: [Errno 2] No such file or directory: 'what is your favorite football team?'\u001b[0m\n",
      "\u001b[32m2024-11-28 04:39:36.458\u001b[0m | \u001b[33m\u001b[1mWARNING \u001b[0m | \u001b[36mayy.dialog\u001b[0m:\u001b[36mload_content\u001b[0m:\u001b[36m45\u001b[0m - \u001b[33m\u001b[1mCould not load content as a file: [Errno 21] Is a directory: '.'\u001b[0m\n",
      "\u001b[32m2024-11-28 04:39:36.459\u001b[0m | \u001b[1mINFO    \u001b[0m | \u001b[36mayy.dialog\u001b[0m:\u001b[36mdialog_to_kwargs\u001b[0m:\u001b[36m186\u001b[0m - \u001b[1mkwargs: {'messages': [{'role': 'system', 'content': \"Tag the latest message.Possible tags are {'CORE': <MemoryTag.CORE: MemoryTagInfo(description='Messages that are crucial and should persist even after the dialog concludes', use_cases=['Important facts about the user', 'Long-term preferences', 'Critical instructions or rules', 'User feedback intended to improve future interactions'])>, 'RECALL': <MemoryTag.RECALL: MemoryTagInfo(description='Messages relevant to the current task and should be remembered during the ongoing dialog', use_cases=['Current task parameters', 'Intermediate results', 'Temporary user preferences'])>}\"}, {'role': 'assistant', 'content': 'what is your favorite football team?'}, {'role': 'user', 'content': 'FC Barcelona forever. remember that.'}], 'generation_config': {'temperature': 0.1, 'max_tokens': 3000}}\u001b[0m\n"
     ]
    },
    {
     "name": "stdout",
     "output_type": "stream",
     "text": [
      "[{'role': 'assistant', 'content': 'what is your favorite football team?'}, {'role': 'user', 'content': 'FC Barcelona forever. remember that.', 'tags': ['RECALL', 'CORE']}]\n"
     ]
    }
   ],
   "source": [
    "# Example usage of add_message with a dialog and a tagger dialog\n",
    "from ayy.dialog import MODEL_NAME, Dialog, ModelName, add_message, assistant_message, user_message\n",
    "\n",
    "# Create a dialog instance\n",
    "dialog = Dialog(\n",
    "    system=\"This is the system message.\",\n",
    "    messages=[\n",
    "        assistant_message(content=\"what is your favorite football team?\"),\n",
    "    ],\n",
    "    model_name=MODEL_NAME,\n",
    ")\n",
    "\n",
    "# Create a tagger dialog instance\n",
    "tagger_dialog = Dialog(\n",
    "    system=\"\",\n",
    "    model_name=ModelName.GEMINI_FLASH,\n",
    "    # messages=[\n",
    "    #     user_message(content=\"I need assistance with my account.\"),\n",
    "    #     assistant_message(content=\"what is your company name?\"),\n",
    "    #     user_message(content=\"MetaAI\"),\n",
    "    #     assistant_message(content=\"tags: ['RECALL']\"),\n",
    "    #     user_message(content=\"The company name is fairly permanent, tag it as CORE\"),\n",
    "    # ],\n",
    ")\n",
    "\n",
    "# Add a message to the dialog with tagging\n",
    "dialog = add_message(\n",
    "    dialog=dialog,\n",
    "    message=user_message(content=\"FC Barcelona forever. remember that.\"),\n",
    "    tagger_dialog=tagger_dialog,\n",
    ")\n",
    "\n",
    "# Print the updated dialog messages\n",
    "print(dialog.messages)\n"
   ]
  },
  {
   "cell_type": "code",
   "execution_count": null,
   "metadata": {},
   "outputs": [],
   "source": []
  }
 ],
 "metadata": {
  "kernelspec": {
   "display_name": ".venv",
   "language": "python",
   "name": "python3"
  },
  "language_info": {
   "codemirror_mode": {
    "name": "ipython",
    "version": 3
   },
   "file_extension": ".py",
   "mimetype": "text/x-python",
   "name": "python",
   "nbconvert_exporter": "python",
   "pygments_lexer": "ipython3",
   "version": "3.12.7"
  }
 },
 "nbformat": 4,
 "nbformat_minor": 2
}
