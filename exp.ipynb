{
 "cells": [
  {
   "cell_type": "code",
   "execution_count": 13,
   "metadata": {},
   "outputs": [],
   "source": [
    "from pathlib import Path\n",
    "\n",
    "from markitdown import MarkItDown"
   ]
  },
  {
   "cell_type": "code",
   "execution_count": 20,
   "metadata": {},
   "outputs": [],
   "source": [
    "markitdown = MarkItDown()\n",
    "result = markitdown.convert(\"/media/hamza/data2/talentnet_data/CVs_PDFs_All/Accounting-Assistant-Resume-0.pdf\")"
   ]
  },
  {
   "cell_type": "code",
   "execution_count": 21,
   "metadata": {},
   "outputs": [
    {
     "data": {
      "text/plain": [
       "4192"
      ]
     },
     "execution_count": 21,
     "metadata": {},
     "output_type": "execute_result"
    }
   ],
   "source": [
    "Path(\"test.md\").write_text(result.text_content)"
   ]
  },
  {
   "cell_type": "code",
   "execution_count": 4,
   "metadata": {},
   "outputs": [
    {
     "data": {
      "text/plain": [
       "[1, 2, 3]"
      ]
     },
     "execution_count": 4,
     "metadata": {},
     "output_type": "execute_result"
    }
   ],
   "source": [
    "a = [1,2,3]\n",
    "a[0:]"
   ]
  },
  {
   "cell_type": "code",
   "execution_count": 16,
   "metadata": {},
   "outputs": [],
   "source": [
    "from uuid import uuid4\n",
    "from ayy.task import Task, TaskTool, Tool, task_to_kwargs, Agent, ModelName, task_tool_to_messages\n",
    "\n",
    "# Create a basic agent\n",
    "agent = Agent(\n",
    "    id=uuid4(),\n",
    "    name=\"Test Agent\",\n",
    "    system=\"You are a helpful test agent\",\n",
    "    model_name=ModelName.GEMINI_FLASH\n",
    ")\n",
    "\n",
    "# Create a task\n",
    "task = Task(\n",
    "    id=uuid4(),\n",
    "    name=\"Test Task\",\n",
    "    agent_id=agent.id,\n",
    "    available_tools_message={\"role\": \"user\", \"content\": \"Available tools: search, calculate\"},\n",
    "    summarized_task_tools=[2,1]  # Keep track of summarized tools\n",
    ")\n",
    "\n",
    "# Create some test tools\n",
    "tools = [\n",
    "    Tool(\n",
    "        name=\"search\",\n",
    "        reasoning=\"Used for searching information\",\n",
    "        prompt=\"What would you like to search for?\"\n",
    "    ),\n",
    "    Tool(\n",
    "        name=\"calculate\",\n",
    "        reasoning=\"Used for mathematical calculations\",\n",
    "        prompt=\"What calculation would you like to perform?\"\n",
    "    )\n",
    "]\n",
    "\n",
    "# Create task tools with some example messages\n",
    "task_tools = [\n",
    "    TaskTool(\n",
    "        id=1,\n",
    "        position=0,\n",
    "        task_id=task.id,\n",
    "        tool=tools[0],\n",
    "        args_message={\"role\": \"assistant\", \"content\": \"Search for: Python programming\"},\n",
    "        result_message={\"role\": \"user\", \"content\": \"Found results about Python programming...\"}\n",
    "    ),\n",
    "    TaskTool(\n",
    "        id=2,\n",
    "        position=1,\n",
    "        task_id=task.id,\n",
    "        tool=tools[1],\n",
    "        args_message={\"role\": \"assistant\", \"content\": \"Calculate: 2 + 2\"},\n",
    "        result_message={\"role\": \"user\", \"content\": \"Result: 4\"}\n",
    "    )\n",
    "]\n"
   ]
  },
  {
   "cell_type": "code",
   "execution_count": 17,
   "metadata": {},
   "outputs": [],
   "source": [
    "task_tools_messages = [\n",
    "        message\n",
    "        for task_tool in task_tools\n",
    "        for message in task_tool_to_messages(task_tool)\n",
    "        if task_tool.id not in task.summarized_task_tools\n",
    "    ]"
   ]
  },
  {
   "cell_type": "code",
   "execution_count": 19,
   "metadata": {},
   "outputs": [
    {
     "data": {
      "text/plain": [
       "[1, 2, 3, 4, 5, 6]"
      ]
     },
     "execution_count": 19,
     "metadata": {},
     "output_type": "execute_result"
    }
   ],
   "source": [
    "\n",
    "a = [[1,2,3], [4,5,6]]\n",
    "[x for sublist in a for x in sublist]"
   ]
  },
  {
   "cell_type": "code",
   "execution_count": 1,
   "metadata": {},
   "outputs": [
    {
     "name": "stdout",
     "output_type": "stream",
     "text": [
      "\n",
      "You are a skilled conversation summarizer. Your task is to analyze a conversation and create a concise version that preserves essential information while significantly reducing the token count.\n",
      "\n",
      "The main purpose of summarization is to:\n",
      "1. Condense lengthy conversations when they exceed the model's context window\n",
      "2. Create learning examples for solving similar tasks in the future\n",
      "3. Build a knowledge base of successful interaction patterns\n",
      "\n",
      "Your summary should:\n",
      "1. Preserve key information and context\n",
      "2. Maintain conversation flow\n",
      "3. Keep track of tools and their usage\n",
      "4. Demonstrate effective problem-solving patterns\n",
      "5. Show clear task progression from start to completion\n",
      "6. Highlight successful strategies and approaches\n",
      "7. Reduce token count through concise messages\n",
      "\n",
      "Create a structured summary that includes:\n",
      "\n",
      "1. A list of messages that capture the essential flow:\n",
      "   - Use 'user' and 'assistant' roles (multiple consecutive messages with same role are allowed)\n",
      "   - Include available tools and selected tools\n",
      "   - Track important tool usage and outcomes\n",
      "   - Preserve critical user inputs and assistant responses\n",
      "   - Show clear problem-solving steps that could be reused\n",
      "   - Emphasize successful patterns and approaches\n",
      "   - Skip pleasantries and redundant exchanges\n",
      "   - Combine related messages when possible\n",
      "   - Focus on information needed for follow-ups and learning\n",
      "\n",
      "2. Semantic memories for long-term facts:\n",
      "   - Permanent facts about participants\n",
      "   - Personal information\n",
      "   - Long-term preferences and traits\n",
      "   - Important rules or instructions\n",
      "   - Tool preferences or patterns\n",
      "   - Successful problem-solving strategies\n",
      "   - Task completion patterns\n",
      "   - Any other unchanging, crucial information\n",
      "\n",
      "The summarized messages could potentially serve as a learning resource, showing:\n",
      "- How to break down complex tasks\n",
      "- When and why to use specific tools\n",
      "- Effective sequencing of tool usage\n",
      "- Handling user preferences and constraints\n",
      "- Successful completion patterns\n",
      "- Common pitfalls to avoid\n",
      "\n",
      "Format your response as a Summary object with messages and semantic_memories fields.\n",
      "\n",
      "Available categories for semantic memories: ['IDENTITY', 'PREFERENCES', 'RELATIONSHIPS', 'SKILLS', 'BELIEFS', 'BACKGROUND', 'HEALTH', 'LOCATION', 'SCHEDULE', 'GOALS', 'OTHER']\n",
      "\n",
      "Example conversation:\n",
      "\n",
      "    User: Available tools: ['get_user_info', 'get_weather', 'search_flights', 'book_flight', 'ask_user', 'call_ai']\n",
      "    User: Hi I'm Hamza andI'm planning a trip to visit my family in New York. How's the weather there?\n",
      "    Assistant: I'll check the weather for you using get_weather.\n",
      "    Tool: get_weather(day=\"Thursday\", location=\"New York\")\n",
      "    Result: \"It's sunny with temperatures around 75°F (24°C). Similar forecast for next few days.\"\n",
      "    Assistant: The weather is sunny in New York with temperatures around 75°F (24°C). The forecast shows similar weather for the next few days.\n",
      "    User: I love sunny days! That's perfect for my trip.\n",
      "    Assistant: That's great that the weather aligns with your preferences! Would you like me to help you book a flight to New York?\n",
      "    User: Yes please, I'd prefer a morning flight if possible.\n",
      "    Assistant: I'll search for morning flights using search_flights.\n",
      "    Tool: search_flights(destination=\"New York\", time_preference=\"morning\")\n",
      "    Result: [{\"flight\": \"AA1234\", \"departure\": \"8:30 AM\", \"arrival\": \"11:45 AM\", \"day\": \"Saturday\"}]\n",
      "    Assistant: I found several morning flights for next weekend. There's a direct flight on Saturday at 8:30 AM, arriving at 11:45 AM. Would that work for you?\n",
      "    User: That sounds perfect.\n",
      "    Assistant: I'll book that flight for you using book_flight.\n",
      "    Tool: book_flight(flight_id=\"AA1234\", user_id=\"u123\")\n",
      "    Result: {\"confirmation\": \"XYZ789\", \"flight\": \"AA1234\", \"departure\": \"8:30 AM\", \"arrival\": \"11:45 AM\"}\n",
      "    Assistant: Great! I've booked the flight for you. Here are the details:\n",
      "    - Flight AA1234\n",
      "    - Saturday, 8:30 AM departure\n",
      "    - Direct flight to JFK\n",
      "    - Confirmation code: XYZ789\n",
      "    User: Thanks! Could you remind me what time I arrive?\n",
      "    Assistant: Your flight arrives at JFK at 11:45 AM. Would you like me to help arrange transportation from the airport?\n",
      "    User: No thanks, my family will pick me up.\n",
      "    # ... existing code ...\n",
      "\n",
      "    Assistant: Perfect! Let me know if you need anything else regarding your trip.\n",
      "    User: Summarize the conversation so far.\n",
      "    Assistant: {\n",
      "      \"messages\": [\n",
      "         {\"role\": \"user\", \"content\": \"Available tools: get_user_info, get_weather, search_flights, book_flight, ask_user, call_ai\"},\n",
      "         {\"role\": \"user\", \"content\": \"Hi I'm Hamza and I'm planning a trip to visit my family in New York. How's the weather there?\"},\n",
      "         {\"role\": \"assistant\", \"content\": \"Let me check the weather for you.\n",
      "Tool: get_weather(day='Thursday', location='New York')\n",
      "Result: It's sunny with temperatures around 75°F (24°C). Similar forecast for next few days.\n",
      "The weather is sunny in New York with temperatures around 75°F (24°C).\"},\n",
      "         {\"role\": \"user\", \"content\": \"I love sunny days! That's perfect for my trip.\"},\n",
      "         {\"role\": \"assistant\", \"content\": \"Would you like me to help you book a flight to New York?\"},\n",
      "         {\"role\": \"user\", \"content\": \"Yes please, I'd prefer a morning flight if possible.\"},\n",
      "         {\"role\": \"assistant\", \"content\": \"Searching for morning flights.\n",
      "Tool: search_flights(destination='New York', time_preference='morning')\n",
      "Result: {'flight': 'AA1234', 'departure': '8:30 AM', 'arrival': '11:45 AM', 'day': 'Saturday'}\n",
      "I found a direct flight on Saturday at 8:30 AM, arriving at 11:45 AM. Would that work for you?\"},\n",
      "         {\"role\": \"user\", \"content\": \"That sounds perfect.\"},\n",
      "         {\"role\": \"assistant\", \"content\": \"Booking your flight.\n",
      "Tool: book_flight(flight_id='AA1234', user_id='u123')\n",
      "Result: {'confirmation': 'XYZ789', 'flight': 'AA1234', 'departure': '8:30 AM', 'arrival': '11:45 AM'}\n",
      "Great! I've booked the flight for you with confirmation code XYZ789.\"}\n",
      "      ],\n",
      "      \"semantic_memories\": [\n",
      "         {\"name\": \"personal_info\", \"content\": {\"name\": \"Hamza\", \"user_id\": \"u123\"}, \"category\": \"identity\", \"confidence\": 1.0},\n",
      "         {\"name\": \"travel_preferences\", \"content\": {\"prefers_morning_flights\": true, \"likes_sunny_weather\": true}, \"category\": \"preferences\", \"confidence\": 0.8},\n",
      "         {\"name\": \"family_location\", \"content\": {\"city\": \"New York\", \"airport_pickup\": true}, \"category\": \"relationships\", \"confidence\": 1.0},\n",
      "         {\"name\": \"flight_booking\", \"content\": {\"confirmation\": \"XYZ789\", \"flight\": \"AA1234\", \"departure\": \"8:30 AM\", \"arrival\": \"11:45 AM\"}, \"category\": \"transactions\", \"confidence\": 1.0}\n",
      "      ]\n",
      "    }\n",
      "\n",
      "\n",
      "This was an example conversation. DO NOT INCLUDE ANY OF THIS WHEN SUMMARIZING THE ACTUAL CONVERSATION.\n",
      "\n"
     ]
    }
   ],
   "source": [
    "from ayy.prompts import SUMMARIZE_MESSAGES\n",
    "print(SUMMARIZE_MESSAGES)"
   ]
  },
  {
   "cell_type": "code",
   "execution_count": null,
   "metadata": {},
   "outputs": [],
   "source": []
  }
 ],
 "metadata": {
  "kernelspec": {
   "display_name": ".venv",
   "language": "python",
   "name": "python3"
  },
  "language_info": {
   "codemirror_mode": {
    "name": "ipython",
    "version": 3
   },
   "file_extension": ".py",
   "mimetype": "text/x-python",
   "name": "python",
   "nbconvert_exporter": "python",
   "pygments_lexer": "ipython3",
   "version": "3.12.7"
  }
 },
 "nbformat": 4,
 "nbformat_minor": 2
}
