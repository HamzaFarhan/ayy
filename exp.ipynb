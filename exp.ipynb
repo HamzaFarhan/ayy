{
 "cells": [
  {
   "cell_type": "code",
   "execution_count": 1,
   "metadata": {},
   "outputs": [
    {
     "name": "stderr",
     "output_type": "stream",
     "text": [
      "/home/hamza/dev/ayy/.venv/lib/python3.12/site-packages/pydantic/_internal/_fields.py:132: UserWarning: Field \"model_name\" in SQL_Dialog has conflict with protected namespace \"model_\".\n",
      "\n",
      "You may be able to resolve this warning by setting `model_config['protected_namespaces'] = ()`.\n",
      "  warnings.warn(\n",
      "/home/hamza/dev/ayy/.venv/lib/python3.12/site-packages/pydantic/_internal/_fields.py:132: UserWarning: Field \"model_name\" in Dialog has conflict with protected namespace \"model_\".\n",
      "\n",
      "You may be able to resolve this warning by setting `model_config['protected_namespaces'] = ()`.\n",
      "  warnings.warn(\n"
     ]
    }
   ],
   "source": [
    "from pathlib import Path\n",
    "\n",
    "from valkey import Valkey\n",
    "\n",
    "from ayy.dialog import Dialog, ModelName, create_creator\n",
    "from ayy.leggo import new_task, run_tools"
   ]
  },
  {
   "cell_type": "code",
   "execution_count": 2,
   "metadata": {},
   "outputs": [],
   "source": [
    "MODEL_NAME = ModelName.GEMINI_FLASH"
   ]
  },
  {
   "cell_type": "code",
   "execution_count": 3,
   "metadata": {},
   "outputs": [
    {
     "name": "stderr",
     "output_type": "stream",
     "text": [
      "\u001b[32m2024-11-24 04:24:56.187\u001b[0m | \u001b[33m\u001b[1mWARNING \u001b[0m | \u001b[36mayy.dialog\u001b[0m:\u001b[36mload_content\u001b[0m:\u001b[36m73\u001b[0m - \u001b[33m\u001b[1mCould not load content as a file: [Errno 36] File name too long: 'selector_system = \"\"\"\\nYou have a list tools at your disposal. Each \u001b[0m\n",
      "\u001b[32m2024-11-24 04:24:56.189\u001b[0m | \u001b[1mINFO    \u001b[0m | \u001b[36mayy.leggo\u001b[0m:\u001b[36mrun_tools\u001b[0m:\u001b[36m152\u001b[0m - \u001b[1m\n",
      "TOOL QUEUE:\n",
      "\n",
      "Chain Of Thought: \n",
      "Name: get_selected_tools\n",
      "Prompt: is the louvre located in manchester?\n",
      "\n",
      "Chain Of Thought: I will use the result from the `list_available_grounds` tool to determine if the Louvre is in Paris. If it is not, I will ask the user for the location.\n",
      "Name: call_ai\n",
      "Prompt: Check if \"Louvre\" is in the list returned by `list_available_grounds`. If it is, return \"No, the Louvre is not located in Manchester\". If not, return a prompt asking the user for the location of the Louvre.\n",
      "\u001b[0m\n",
      "\u001b[32m2024-11-24 04:24:56.192\u001b[0m | \u001b[1mINFO    \u001b[0m | \u001b[36mayy.leggo\u001b[0m:\u001b[36mrun_tool\u001b[0m:\u001b[36m82\u001b[0m - \u001b[1m\n",
      "\n",
      "Calling get_selected_tools with messages: [{'role': 'user', 'content': 'Available tools for this task:\\nTool 1:\\n{\\'name\\': \\'ask_user\\', \\'signature\\': \\'ask_user(prompt: str) -> str\\', \\'docstring\\': \\'Prompt the user for a response\\'}\\n\\nTool 2:\\n{\\'name\\': \\'call_ai\\', \\'signature\\': \\'call_ai(inputs: Any) -> Any\\', \\'docstring\\': \\'Not a pre-defined tool.\\'}\\n\\nTool 3:\\n{\\'name\\': \\'download_video\\', \\'signature\\': \\'download_video(url: str) -> str\\', \\'docstring\\': \\'download video from url and return the local path\\'}\\n\\nTool 4:\\n{\\'name\\': \\'get_weather\\', \\'signature\\': \"get_weather(day: Literal[\\'Monday\\', \\'Tuesday\\', \\'Wednesday\\', \\'Thursday\\', \\'Friday\\', \\'Saturday\\', \\'Sunday\\'], location: str) -> str\", \\'docstring\\': \\'get the weather at a day in a location\\'}\\n\\nTool 5:\\n{\\'name\\': \\'list_available_grounds\\', \\'signature\\': \\'list_available_grounds(location: str) -> list[str]\\', \\'docstring\\': \\'list all available grounds in a location\\'}'}, {'role': 'user', 'content': 'is the louvre located in manchester?'}]\n",
      "\n",
      "\u001b[0m\n",
      "\u001b[32m2024-11-24 04:24:59.476\u001b[0m | \u001b[1mINFO    \u001b[0m | \u001b[36mayy.leggo\u001b[0m:\u001b[36mrun_tool\u001b[0m:\u001b[36m87\u001b[0m - \u001b[1mget_selected_tools creator_res: [SelectedTool(chain_of_thought='To answer this question, I need to know the location of the Louvre museum. I will use the `list_available_grounds` tool to get a list of available grounds in various locations and check if the Louvre is among them. If it is not found, I will ask the user for the location of the Louvre.', name='list_available_grounds', prompt='location: \"Paris\"'), SelectedTool(chain_of_thought='Now that I have the list of grounds in Paris, I will check if the Louvre is among them. If it is, I will answer the question accordingly. If not, I will ask the user for clarification.', name='call_ai', prompt='Check if the Louvre is in the list of grounds returned by the `list_available_grounds` tool. If it is, return \"No, the Louvre is not located in Manchester\". If it is not, ask the user for the location of the Louvre.')]\u001b[0m\n",
      "\u001b[32m2024-11-24 04:24:59.482\u001b[0m | \u001b[32m\u001b[1mSUCCESS \u001b[0m | \u001b[36mayy.leggo\u001b[0m:\u001b[36mrun_tool\u001b[0m:\u001b[36m92\u001b[0m - \u001b[32m\u001b[1mget_selected_tools result: None\u001b[0m\n",
      "\u001b[32m2024-11-24 04:24:59.486\u001b[0m | \u001b[1mINFO    \u001b[0m | \u001b[36mayy.leggo\u001b[0m:\u001b[36mrun_tools\u001b[0m:\u001b[36m152\u001b[0m - \u001b[1m\n",
      "TOOL QUEUE:\n",
      "\n",
      "Chain Of Thought: To answer this question, I need to know the location of the Louvre museum. I will use the `list_available_grounds` tool to get a list of available grounds in various locations and check if the Louvre is among them. If it is not found, I will ask the user for the location of the Louvre.\n",
      "Name: list_available_grounds\n",
      "Prompt: location: \"Paris\"\n",
      "\n",
      "Chain Of Thought: Now that I have the list of grounds in Paris, I will check if the Louvre is among them. If it is, I will answer the question accordingly. If not, I will ask the user for clarification.\n",
      "Name: call_ai\n",
      "Prompt: Check if the Louvre is in the list of grounds returned by the `list_available_grounds` tool. If it is, return \"No, the Louvre is not located in Manchester\". If it is not, ask the user for the location of the Louvre.\n",
      "\n",
      "Chain Of Thought: I will use the result from the `list_available_grounds` tool to determine if the Louvre is in Paris. If it is not, I will ask the user for the location.\n",
      "Name: call_ai\n",
      "Prompt: Check if \"Louvre\" is in the list returned by `list_available_grounds`. If it is, return \"No, the Louvre is not located in Manchester\". If not, return a prompt asking the user for the location of the Louvre.\n",
      "\u001b[0m\n",
      "\u001b[32m2024-11-24 04:24:59.493\u001b[0m | \u001b[1mINFO    \u001b[0m | \u001b[36mayy.leggo\u001b[0m:\u001b[36mrun_tool\u001b[0m:\u001b[36m82\u001b[0m - \u001b[1m\n",
      "\n",
      "Calling list_available_grounds with messages: [{'role': 'user', 'content': 'Available tools for this task:\\nTool 1:\\n{\\'name\\': \\'ask_user\\', \\'signature\\': \\'ask_user(prompt: str) -> str\\', \\'docstring\\': \\'Prompt the user for a response\\'}\\n\\nTool 2:\\n{\\'name\\': \\'call_ai\\', \\'signature\\': \\'call_ai(inputs: Any) -> Any\\', \\'docstring\\': \\'Not a pre-defined tool.\\'}\\n\\nTool 3:\\n{\\'name\\': \\'download_video\\', \\'signature\\': \\'download_video(url: str) -> str\\', \\'docstring\\': \\'download video from url and return the local path\\'}\\n\\nTool 4:\\n{\\'name\\': \\'get_weather\\', \\'signature\\': \"get_weather(day: Literal[\\'Monday\\', \\'Tuesday\\', \\'Wednesday\\', \\'Thursday\\', \\'Friday\\', \\'Saturday\\', \\'Sunday\\'], location: str) -> str\", \\'docstring\\': \\'get the weather at a day in a location\\'}\\n\\nTool 5:\\n{\\'name\\': \\'list_available_grounds\\', \\'signature\\': \\'list_available_grounds(location: str) -> list[str]\\', \\'docstring\\': \\'list all available grounds in a location\\'}'}, {'role': 'user', 'content': 'is the louvre located in manchester?'}, {'role': 'assistant', 'content': 'None'}, {'role': 'user', 'content': 'location: \"Paris\"'}]\n",
      "\n",
      "\u001b[0m\n",
      "\u001b[32m2024-11-24 04:25:00.056\u001b[0m | \u001b[1mINFO    \u001b[0m | \u001b[36mayy.leggo\u001b[0m:\u001b[36mrun_tool\u001b[0m:\u001b[36m87\u001b[0m - \u001b[1mlist_available_grounds creator_res: location='Paris'\u001b[0m\n",
      "\u001b[32m2024-11-24 04:25:00.057\u001b[0m | \u001b[32m\u001b[1mSUCCESS \u001b[0m | \u001b[36mayy.leggo\u001b[0m:\u001b[36mrun_tool\u001b[0m:\u001b[36m92\u001b[0m - \u001b[32m\u001b[1mlist_available_grounds result: ['Palm Football']\u001b[0m\n",
      "\u001b[32m2024-11-24 04:25:00.059\u001b[0m | \u001b[1mINFO    \u001b[0m | \u001b[36mayy.leggo\u001b[0m:\u001b[36mrun_tools\u001b[0m:\u001b[36m152\u001b[0m - \u001b[1m\n",
      "TOOL QUEUE:\n",
      "\n",
      "Chain Of Thought: Now that I have the list of grounds in Paris, I will check if the Louvre is among them. If it is, I will answer the question accordingly. If not, I will ask the user for clarification.\n",
      "Name: call_ai\n",
      "Prompt: Check if the Louvre is in the list of grounds returned by the `list_available_grounds` tool. If it is, return \"No, the Louvre is not located in Manchester\". If it is not, ask the user for the location of the Louvre.\n",
      "\n",
      "Chain Of Thought: I will use the result from the `list_available_grounds` tool to determine if the Louvre is in Paris. If it is not, I will ask the user for the location.\n",
      "Name: call_ai\n",
      "Prompt: Check if \"Louvre\" is in the list returned by `list_available_grounds`. If it is, return \"No, the Louvre is not located in Manchester\". If not, return a prompt asking the user for the location of the Louvre.\n",
      "\u001b[0m\n",
      "\u001b[32m2024-11-24 04:25:00.062\u001b[0m | \u001b[1mINFO    \u001b[0m | \u001b[36mayy.leggo\u001b[0m:\u001b[36mrun_call_ai\u001b[0m:\u001b[36m31\u001b[0m - \u001b[1m\n",
      "\n",
      "Calling AI with messages: [{'role': 'user', 'content': 'Available tools for this task:\\nTool 1:\\n{\\'name\\': \\'ask_user\\', \\'signature\\': \\'ask_user(prompt: str) -> str\\', \\'docstring\\': \\'Prompt the user for a response\\'}\\n\\nTool 2:\\n{\\'name\\': \\'call_ai\\', \\'signature\\': \\'call_ai(inputs: Any) -> Any\\', \\'docstring\\': \\'Not a pre-defined tool.\\'}\\n\\nTool 3:\\n{\\'name\\': \\'download_video\\', \\'signature\\': \\'download_video(url: str) -> str\\', \\'docstring\\': \\'download video from url and return the local path\\'}\\n\\nTool 4:\\n{\\'name\\': \\'get_weather\\', \\'signature\\': \"get_weather(day: Literal[\\'Monday\\', \\'Tuesday\\', \\'Wednesday\\', \\'Thursday\\', \\'Friday\\', \\'Saturday\\', \\'Sunday\\'], location: str) -> str\", \\'docstring\\': \\'get the weather at a day in a location\\'}\\n\\nTool 5:\\n{\\'name\\': \\'list_available_grounds\\', \\'signature\\': \\'list_available_grounds(location: str) -> list[str]\\', \\'docstring\\': \\'list all available grounds in a location\\'}'}, {'role': 'user', 'content': 'is the louvre located in manchester?'}, {'role': 'assistant', 'content': 'None'}, {'role': 'user', 'content': 'location: \"Paris\"'}, {'role': 'assistant', 'content': \"['Palm Football']\"}, {'role': 'user', 'content': 'Check if the Louvre is in the list of grounds returned by the `list_available_grounds` tool. If it is, return \"No, the Louvre is not located in Manchester\". If it is not, ask the user for the location of the Louvre.'}]\n",
      "\n",
      "\u001b[0m\n",
      "\u001b[32m2024-11-24 04:25:01.937\u001b[0m | \u001b[32m\u001b[1mSUCCESS \u001b[0m | \u001b[36mayy.leggo\u001b[0m:\u001b[36mrun_call_ai\u001b[0m:\u001b[36m33\u001b[0m - \u001b[32m\u001b[1mcall_ai result: {\n",
      "  \"tool_code\": [\n",
      "    {\n",
      "      \"tool\": \"list_available_grounds\",\n",
      "      \"arguments\": {\n",
      "        \"location\": \"Paris\"\n",
      "      }\n",
      "    },\n",
      "    {\n",
      "      \"tool\": \"call_ai\",\n",
      "      \"arguments\": {\n",
      "        \"inputs\": \"Check if the Louvre is in the list of grounds returned by the `list_available_grounds` tool. If it is, return \\\"No, the Louvre is not located in Manchester\\\". If it is not, ask the user for the location of the Louvre.\"\n",
      "      }\n",
      "    }\n",
      "  ]\n",
      "}\u001b[0m\n",
      "\u001b[32m2024-11-24 04:25:01.941\u001b[0m | \u001b[1mINFO    \u001b[0m | \u001b[36mayy.leggo\u001b[0m:\u001b[36mrun_tools\u001b[0m:\u001b[36m152\u001b[0m - \u001b[1m\n",
      "TOOL QUEUE:\n",
      "\n",
      "Chain Of Thought: I will use the result from the `list_available_grounds` tool to determine if the Louvre is in Paris. If it is not, I will ask the user for the location.\n",
      "Name: call_ai\n",
      "Prompt: Check if \"Louvre\" is in the list returned by `list_available_grounds`. If it is, return \"No, the Louvre is not located in Manchester\". If not, return a prompt asking the user for the location of the Louvre.\n",
      "\u001b[0m\n",
      "\u001b[32m2024-11-24 04:25:01.946\u001b[0m | \u001b[1mINFO    \u001b[0m | \u001b[36mayy.leggo\u001b[0m:\u001b[36mrun_call_ai\u001b[0m:\u001b[36m31\u001b[0m - \u001b[1m\n",
      "\n",
      "Calling AI with messages: [{'role': 'user', 'content': 'Available tools for this task:\\nTool 1:\\n{\\'name\\': \\'ask_user\\', \\'signature\\': \\'ask_user(prompt: str) -> str\\', \\'docstring\\': \\'Prompt the user for a response\\'}\\n\\nTool 2:\\n{\\'name\\': \\'call_ai\\', \\'signature\\': \\'call_ai(inputs: Any) -> Any\\', \\'docstring\\': \\'Not a pre-defined tool.\\'}\\n\\nTool 3:\\n{\\'name\\': \\'download_video\\', \\'signature\\': \\'download_video(url: str) -> str\\', \\'docstring\\': \\'download video from url and return the local path\\'}\\n\\nTool 4:\\n{\\'name\\': \\'get_weather\\', \\'signature\\': \"get_weather(day: Literal[\\'Monday\\', \\'Tuesday\\', \\'Wednesday\\', \\'Thursday\\', \\'Friday\\', \\'Saturday\\', \\'Sunday\\'], location: str) -> str\", \\'docstring\\': \\'get the weather at a day in a location\\'}\\n\\nTool 5:\\n{\\'name\\': \\'list_available_grounds\\', \\'signature\\': \\'list_available_grounds(location: str) -> list[str]\\', \\'docstring\\': \\'list all available grounds in a location\\'}'}, {'role': 'user', 'content': 'is the louvre located in manchester?'}, {'role': 'assistant', 'content': 'None'}, {'role': 'user', 'content': 'location: \"Paris\"'}, {'role': 'assistant', 'content': \"['Palm Football']\"}, {'role': 'user', 'content': 'Check if the Louvre is in the list of grounds returned by the `list_available_grounds` tool. If it is, return \"No, the Louvre is not located in Manchester\". If it is not, ask the user for the location of the Louvre.'}, {'role': 'assistant', 'content': '{\\n  \"tool_code\": [\\n    {\\n      \"tool\": \"list_available_grounds\",\\n      \"arguments\": {\\n        \"location\": \"Paris\"\\n      }\\n    },\\n    {\\n      \"tool\": \"call_ai\",\\n      \"arguments\": {\\n        \"inputs\": \"Check if the Louvre is in the list of grounds returned by the `list_available_grounds` tool. If it is, return \\\\\"No, the Louvre is not located in Manchester\\\\\". If it is not, ask the user for the location of the Louvre.\"\\n      }\\n    }\\n  ]\\n}'}, {'role': 'user', 'content': 'Check if \"Louvre\" is in the list returned by `list_available_grounds`. If it is, return \"No, the Louvre is not located in Manchester\". If not, return a prompt asking the user for the location of the Louvre.'}]\n",
      "\n",
      "\u001b[0m\n",
      "\u001b[32m2024-11-24 04:25:03.926\u001b[0m | \u001b[32m\u001b[1mSUCCESS \u001b[0m | \u001b[36mayy.leggo\u001b[0m:\u001b[36mrun_call_ai\u001b[0m:\u001b[36m33\u001b[0m - \u001b[32m\u001b[1mcall_ai result: No, the Louvre is not located in Manchester\u001b[0m\n",
      "\u001b[32m2024-11-24 04:25:16.100\u001b[0m | \u001b[1mINFO    \u001b[0m | \u001b[36mayy.leggo\u001b[0m:\u001b[36mrun_tools\u001b[0m:\u001b[36m152\u001b[0m - \u001b[1m\n",
      "TOOL QUEUE:\n",
      "\n",
      "Chain Of Thought: \n",
      "Name: get_selected_tools\n",
      "Prompt: then where?\n",
      "\u001b[0m\n",
      "\u001b[32m2024-11-24 04:25:16.102\u001b[0m | \u001b[1mINFO    \u001b[0m | \u001b[36mayy.leggo\u001b[0m:\u001b[36mrun_tool\u001b[0m:\u001b[36m82\u001b[0m - \u001b[1m\n",
      "\n",
      "Calling get_selected_tools with messages: [{'role': 'user', 'content': 'Available tools for this task:\\nTool 1:\\n{\\'name\\': \\'ask_user\\', \\'signature\\': \\'ask_user(prompt: str) -> str\\', \\'docstring\\': \\'Prompt the user for a response\\'}\\n\\nTool 2:\\n{\\'name\\': \\'call_ai\\', \\'signature\\': \\'call_ai(inputs: Any) -> Any\\', \\'docstring\\': \\'Not a pre-defined tool.\\'}\\n\\nTool 3:\\n{\\'name\\': \\'download_video\\', \\'signature\\': \\'download_video(url: str) -> str\\', \\'docstring\\': \\'download video from url and return the local path\\'}\\n\\nTool 4:\\n{\\'name\\': \\'get_weather\\', \\'signature\\': \"get_weather(day: Literal[\\'Monday\\', \\'Tuesday\\', \\'Wednesday\\', \\'Thursday\\', \\'Friday\\', \\'Saturday\\', \\'Sunday\\'], location: str) -> str\", \\'docstring\\': \\'get the weather at a day in a location\\'}\\n\\nTool 5:\\n{\\'name\\': \\'list_available_grounds\\', \\'signature\\': \\'list_available_grounds(location: str) -> list[str]\\', \\'docstring\\': \\'list all available grounds in a location\\'}'}, {'role': 'user', 'content': 'is the louvre located in manchester?'}, {'role': 'assistant', 'content': 'None'}, {'role': 'user', 'content': 'location: \"Paris\"'}, {'role': 'assistant', 'content': \"['Palm Football']\"}, {'role': 'user', 'content': 'Check if the Louvre is in the list of grounds returned by the `list_available_grounds` tool. If it is, return \"No, the Louvre is not located in Manchester\". If it is not, ask the user for the location of the Louvre.'}, {'role': 'assistant', 'content': '{\\n  \"tool_code\": [\\n    {\\n      \"tool\": \"list_available_grounds\",\\n      \"arguments\": {\\n        \"location\": \"Paris\"\\n      }\\n    },\\n    {\\n      \"tool\": \"call_ai\",\\n      \"arguments\": {\\n        \"inputs\": \"Check if the Louvre is in the list of grounds returned by the `list_available_grounds` tool. If it is, return \\\\\"No, the Louvre is not located in Manchester\\\\\". If it is not, ask the user for the location of the Louvre.\"\\n      }\\n    }\\n  ]\\n}'}, {'role': 'user', 'content': 'Check if \"Louvre\" is in the list returned by `list_available_grounds`. If it is, return \"No, the Louvre is not located in Manchester\". If not, return a prompt asking the user for the location of the Louvre.'}, {'role': 'assistant', 'content': 'No, the Louvre is not located in Manchester'}, {'role': 'user', 'content': 'Available tools for this task:\\nTool 1:\\n{\\'name\\': \\'ask_user\\', \\'signature\\': \\'ask_user(prompt: str) -> str\\', \\'docstring\\': \\'Prompt the user for a response\\'}\\n\\nTool 2:\\n{\\'name\\': \\'call_ai\\', \\'signature\\': \\'call_ai(inputs: Any) -> Any\\', \\'docstring\\': \\'Not a pre-defined tool.\\'}\\n\\nTool 3:\\n{\\'name\\': \\'download_video\\', \\'signature\\': \\'download_video(url: str) -> str\\', \\'docstring\\': \\'download video from url and return the local path\\'}\\n\\nTool 4:\\n{\\'name\\': \\'get_weather\\', \\'signature\\': \"get_weather(day: Literal[\\'Monday\\', \\'Tuesday\\', \\'Wednesday\\', \\'Thursday\\', \\'Friday\\', \\'Saturday\\', \\'Sunday\\'], location: str) -> str\", \\'docstring\\': \\'get the weather at a day in a location\\'}\\n\\nTool 5:\\n{\\'name\\': \\'list_available_grounds\\', \\'signature\\': \\'list_available_grounds(location: str) -> list[str]\\', \\'docstring\\': \\'list all available grounds in a location\\'}'}, {'role': 'user', 'content': 'then where?'}]\n",
      "\n",
      "\u001b[0m\n",
      "\u001b[32m2024-11-24 04:25:17.054\u001b[0m | \u001b[1mINFO    \u001b[0m | \u001b[36mayy.leggo\u001b[0m:\u001b[36mrun_tool\u001b[0m:\u001b[36m87\u001b[0m - \u001b[1mget_selected_tools creator_res: [SelectedTool(chain_of_thought='The user asked where the Louvre is located.  I need to ask the user for the location of the Louvre.', name='ask_user', prompt='Please tell me the location of the Louvre museum.')]\u001b[0m\n",
      "\u001b[32m2024-11-24 04:25:17.057\u001b[0m | \u001b[32m\u001b[1mSUCCESS \u001b[0m | \u001b[36mayy.leggo\u001b[0m:\u001b[36mrun_tool\u001b[0m:\u001b[36m92\u001b[0m - \u001b[32m\u001b[1mget_selected_tools result: None\u001b[0m\n",
      "\u001b[32m2024-11-24 04:25:17.058\u001b[0m | \u001b[1mINFO    \u001b[0m | \u001b[36mayy.leggo\u001b[0m:\u001b[36mrun_tools\u001b[0m:\u001b[36m152\u001b[0m - \u001b[1m\n",
      "TOOL QUEUE:\n",
      "\n",
      "Chain Of Thought: The user asked where the Louvre is located.  I need to ask the user for the location of the Louvre.\n",
      "Name: ask_user\n",
      "Prompt: Please tell me the location of the Louvre museum.\n",
      "\u001b[0m\n",
      "\u001b[32m2024-11-24 04:25:28.000\u001b[0m | \u001b[32m\u001b[1mSUCCESS \u001b[0m | \u001b[36mayy.leggo\u001b[0m:\u001b[36mrun_tools\u001b[0m:\u001b[36m201\u001b[0m - \u001b[32m\u001b[1mMessages: [{'role': 'assistant', 'content': 'Please tell me the location of the Louvre museum.'}, {'role': 'user', 'content': 'you tell me'}]\u001b[0m\n",
      "\u001b[32m2024-11-24 04:25:28.709\u001b[0m | \u001b[32m\u001b[1mSUCCESS \u001b[0m | \u001b[36mayy.leggo\u001b[0m:\u001b[36mrun_tools\u001b[0m:\u001b[36m197\u001b[0m - \u001b[32m\u001b[1mai response: The Louvre Museum is located in Paris, France.\u001b[0m\n",
      "\u001b[32m2024-11-24 04:25:33.357\u001b[0m | \u001b[32m\u001b[1mSUCCESS \u001b[0m | \u001b[36mayy.leggo\u001b[0m:\u001b[36mrun_tools\u001b[0m:\u001b[36m201\u001b[0m - \u001b[32m\u001b[1mMessages: [{'role': 'user', 'content': 'you tell me'}, {'role': 'assistant', 'content': 'The Louvre Museum is located in Paris, France.'}]\u001b[0m\n"
     ]
    }
   ],
   "source": [
    "valkey_client = Valkey()\n",
    "dialog = Dialog(system=Path(\"src/ayy/selector_task.txt\").read_text(), model_name=MODEL_NAME)\n",
    "creator = create_creator(model_name=MODEL_NAME)\n",
    "\n",
    "dialog = new_task(valkey_client, dialog=dialog, task=\"is the louvre located in manchester?\")\n",
    "dialog = run_tools(valkey_client, creator=creator, dialog=dialog)"
   ]
  },
  {
   "cell_type": "code",
   "execution_count": 4,
   "metadata": {},
   "outputs": [],
   "source": [
    "# Path(\"dialog.json\").write_text(json.dumps(dialog.messages))"
   ]
  },
  {
   "cell_type": "code",
   "execution_count": null,
   "metadata": {},
   "outputs": [],
   "source": []
  }
 ],
 "metadata": {
  "kernelspec": {
   "display_name": ".venv",
   "language": "python",
   "name": "python3"
  },
  "language_info": {
   "codemirror_mode": {
    "name": "ipython",
    "version": 3
   },
   "file_extension": ".py",
   "mimetype": "text/x-python",
   "name": "python",
   "nbconvert_exporter": "python",
   "pygments_lexer": "ipython3",
   "version": "3.12.7"
  }
 },
 "nbformat": 4,
 "nbformat_minor": 2
}
