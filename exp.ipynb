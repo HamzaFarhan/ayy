{
 "cells": [
  {
   "cell_type": "code",
   "execution_count": 25,
   "metadata": {},
   "outputs": [],
   "source": [
    "from enum import Enum\n",
    "from typing import Literal\n",
    "\n",
    "from pydantic import BaseModel\n",
    "\n",
    "from ayy.dialog import ModelName, create_creator, system_message, user_message"
   ]
  },
  {
   "cell_type": "code",
   "execution_count": 54,
   "metadata": {},
   "outputs": [],
   "source": [
    "class MemoryTagInfo(BaseModel):\n",
    "    description: str\n",
    "    use_cases: list[str]\n",
    "\n",
    "\n",
    "class MemoryTag(Enum):\n",
    "    CORE = MemoryTagInfo(\n",
    "        description=\"Messages that are crucial and should persist even after the dialog concludes\",\n",
    "        use_cases=[\n",
    "            \"Important facts about the user\",\n",
    "            \"Long-term preferences\",\n",
    "            \"Critical instructions or rules\",\n",
    "            \"User feedback intended to improve future interactions\",\n",
    "        ],\n",
    "    )\n",
    "    RECALL = MemoryTagInfo(\n",
    "        description=\"Messages relevant to the current task and should be remembered during the ongoing dialog\",\n",
    "        use_cases=[\"Current task parameters\", \"Intermediate results\", \"Temporary user preferences\"],\n",
    "    )"
   ]
  },
  {
   "cell_type": "code",
   "execution_count": 57,
   "metadata": {},
   "outputs": [
    {
     "data": {
      "text/plain": [
       "'CORE'"
      ]
     },
     "execution_count": 57,
     "metadata": {},
     "output_type": "execute_result"
    }
   ],
   "source": [
    "creator = create_creator(ModelName.GEMINI_FLASH)\n",
    "res = creator.create(\n",
    "    response_model=Literal[*MemoryTag._member_names_],  # type: ignore\n",
    "    messages=[\n",
    "        system_message(f\"Possible tags are {str(MemoryTag.__members__)}\"),\n",
    "        user_message(\"My name is Hamza. remember this\"),\n",
    "    ],  # type: ignore\n",
    ")\n",
    "res"
   ]
  },
  {
   "cell_type": "code",
   "execution_count": null,
   "metadata": {},
   "outputs": [],
   "source": []
  }
 ],
 "metadata": {
  "kernelspec": {
   "display_name": ".venv",
   "language": "python",
   "name": "python3"
  },
  "language_info": {
   "codemirror_mode": {
    "name": "ipython",
    "version": 3
   },
   "file_extension": ".py",
   "mimetype": "text/x-python",
   "name": "python",
   "nbconvert_exporter": "python",
   "pygments_lexer": "ipython3",
   "version": "3.12.7"
  }
 },
 "nbformat": 4,
 "nbformat_minor": 2
}
