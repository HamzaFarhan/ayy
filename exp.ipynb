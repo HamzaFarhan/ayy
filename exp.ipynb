{
 "cells": [
  {
   "cell_type": "code",
   "execution_count": null,
   "metadata": {},
   "outputs": [],
   "source": [
    "from pathlib import Path\n",
    "\n",
    "from valkey import Valkey\n",
    "\n",
    "from ayy.dialog import Dialog, ModelName, create_creator\n",
    "from ayy.leggo import new_task, run_tools"
   ]
  },
  {
   "cell_type": "code",
   "execution_count": 2,
   "metadata": {},
   "outputs": [],
   "source": [
    "MODEL_NAME = ModelName.GEMINI_FLASH"
   ]
  },
  {
   "cell_type": "code",
   "execution_count": null,
   "metadata": {},
   "outputs": [],
   "source": [
    "valkey_client = Valkey()\n",
    "dialog = Dialog(system=Path(\"src/ayy/selector_task.txt\").read_text(), model_name=MODEL_NAME)\n",
    "creator = create_creator(model_name=MODEL_NAME)\n",
    "\n",
    "dialog = new_task(valkey_client, dialog=dialog, task=\"whats the weather in london?\")\n",
    "dialog = run_tools(valkey_client, creator=creator, dialog=dialog)"
   ]
  },
  {
   "cell_type": "code",
   "execution_count": 4,
   "metadata": {},
   "outputs": [],
   "source": [
    "# Path(\"dialog.json\").write_text(json.dumps(dialog.messages))"
   ]
  },
  {
   "cell_type": "code",
   "execution_count": null,
   "metadata": {},
   "outputs": [],
   "source": []
  }
 ],
 "metadata": {
  "kernelspec": {
   "display_name": ".venv",
   "language": "python",
   "name": "python3"
  },
  "language_info": {
   "codemirror_mode": {
    "name": "ipython",
    "version": 3
   },
   "file_extension": ".py",
   "mimetype": "text/x-python",
   "name": "python",
   "nbconvert_exporter": "python",
   "pygments_lexer": "ipython3",
   "version": "3.12.7"
  }
 },
 "nbformat": 4,
 "nbformat_minor": 2
}
